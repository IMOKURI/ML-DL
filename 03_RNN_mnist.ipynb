{
 "cells": [
  {
   "cell_type": "markdown",
   "metadata": {},
   "source": [
    "# Deep Learning入門\n",
    "\n",
    "## Recurrent Neural Network(RNN) のサンプル"
   ]
  },
  {
   "cell_type": "code",
   "execution_count": 1,
   "metadata": {
    "collapsed": false,
    "jupyter": {
     "outputs_hidden": false
    }
   },
   "outputs": [
    {
     "data": {
      "image/png": "[encoded data removed]",
      "text/plain": [
       "<Figure size 648x1080 with 9 Axes>"
      ]
     },
     "metadata": {},
     "output_type": "display_data"
    }
   ],
   "source": [
    "import matplotlib.pyplot as plt\n",
    "import numpy as np\n",
    "from IPython.display import SVG\n",
    "from tensorflow.keras import regularizers\n",
    "from tensorflow.keras.callbacks import EarlyStopping\n",
    "from tensorflow.keras.datasets import mnist\n",
    "from tensorflow.keras.layers import Activation, Bidirectional, Dense, SimpleRNN\n",
    "from tensorflow.keras.models import Sequential\n",
    "from tensorflow.keras.optimizers import Adam\n",
    "from tensorflow.keras.utils import model_to_dot, to_categorical\n",
    "\n",
    "%matplotlib inline\n",
    "\n",
    "(x_train, y_train), (x_test, y_test) = mnist.load_data()\n",
    "\n",
    "fig = plt.figure(figsize=(9, 15))\n",
    "fig.subplots_adjust(left=0, right=1, bottom=0,\n",
    "                    top=0.5, hspace=0.05, wspace=0.05)\n",
    "\n",
    "for i in range(9):\n",
    "    ax = fig.add_subplot(1, 9, i + 1, xticks=[], yticks=[])\n",
    "    ax.set_title(str(y_train[i]))\n",
    "    ax.imshow(x_train[i], cmap='gray')"
   ]
  },
  {
   "cell_type": "markdown",
   "metadata": {},
   "source": [
    "## 前処理"
   ]
  },
  {
   "cell_type": "code",
   "execution_count": 2,
   "metadata": {
    "collapsed": false,
    "jupyter": {
     "outputs_hidden": false
    }
   },
   "outputs": [],
   "source": [
    "x_train = x_train.reshape(x_train.shape[0], 28, 28)\n",
    "x_test = x_test.reshape(x_test.shape[0], 28, 28)\n",
    "\n",
    "# 名義尺度の値をone-hot表現へ変換\n",
    "y_train = to_categorical(y_train)\n",
    "y_test = to_categorical(y_test)"
   ]
  },
  {
   "cell_type": "markdown",
   "metadata": {},
   "source": [
    "## モデル作成"
   ]
  },
  {
   "cell_type": "code",
   "execution_count": 3,
   "metadata": {
    "collapsed": false,
    "jupyter": {
     "outputs_hidden": false
    }
   },
   "outputs": [
    {
     "name": "stdout",
     "output_type": "stream",
     "text": [
      "Model: \"sequential\"\n",
      "_________________________________________________________________\n",
      "Layer (type)                 Output Shape              Param #   \n",
      "=================================================================\n",
      "bidirectional (Bidirectional (None, 256)               40192     \n",
      "_________________________________________________________________\n",
      "dense (Dense)                (None, 10)                2570      \n",
      "_________________________________________________________________\n",
      "activation (Activation)      (None, 10)                0         \n",
      "=================================================================\n",
      "Total params: 42,762\n",
      "Trainable params: 42,762\n",
      "Non-trainable params: 0\n",
      "_________________________________________________________________\n"
     ]
    }
   ],
   "source": [
    "# Sequential: ネットワークを1列に積み上げているシンプルな方法\n",
    "model = Sequential()\n",
    "\n",
    "model.add(Bidirectional(SimpleRNN(128), input_shape=(28, 28)))\n",
    "model.add(Dense(10, kernel_initializer='glorot_uniform'))\n",
    "model.add(Activation('softmax'))\n",
    "\n",
    "model.compile(\n",
    "    loss='categorical_crossentropy',\n",
    "    # optimizer='sgd',\n",
    "    # 最適化手法として Adam を使用している。\n",
    "    optimizer=Adam(),\n",
    "    metrics=['acc']\n",
    ")\n",
    "\n",
    "model.summary()"
   ]
  },
  {
   "cell_type": "markdown",
   "metadata": {},
   "source": [
    "## モデル可視化"
   ]
  },
  {
   "cell_type": "code",
   "execution_count": 4,
   "metadata": {
    "collapsed": false,
    "jupyter": {
     "outputs_hidden": false
    }
   },
   "outputs": [
    {
     "data": {
      "image/svg+xml": [
       "<svg height=\"268pt\" viewBox=\"0.00 0.00 318.00 268.00\" width=\"318pt\" xmlns=\"http://www.w3.org/2000/svg\" xmlns:xlink=\"http://www.w3.org/1999/xlink\">\n",
       "<g class=\"graph\" id=\"graph0\" transform=\"scale(1 1) rotate(0) translate(4 264)\">\n",
       "<title>G</title>\n",
       "<polygon fill=\"white\" points=\"-4,5 -4,-264 315,-264 315,5 -4,5\" stroke=\"white\"/>\n",
       "<!-- 140135557901672 -->\n",
       "<g class=\"node\" id=\"node1\"><title>140135557901672</title>\n",
       "<polygon fill=\"none\" points=\"62.5,-223 62.5,-259 247.5,-259 247.5,-223 62.5,-223\" stroke=\"black\"/>\n",
       "<text font-family=\"Times,serif\" font-size=\"14.00\" text-anchor=\"middle\" x=\"155\" y=\"-237.3\">bidirectional_input: InputLayer</text>\n",
       "</g>\n",
       "<!-- 140135557945888 -->\n",
       "<g class=\"node\" id=\"node2\"><title>140135557945888</title>\n",
       "<polygon fill=\"none\" points=\"0,-149 0,-185 310,-185 310,-149 0,-149\" stroke=\"black\"/>\n",
       "<text font-family=\"Times,serif\" font-size=\"14.00\" text-anchor=\"middle\" x=\"155\" y=\"-163.3\">bidirectional(simple_rnn): Bidirectional(SimpleRNN)</text>\n",
       "</g>\n",
       "<!-- 140135557901672&#45;&gt;140135557945888 -->\n",
       "<g class=\"edge\" id=\"edge1\"><title>140135557901672-&gt;140135557945888</title>\n",
       "<path d=\"M155,-222.937C155,-214.807 155,-204.876 155,-195.705\" fill=\"none\" stroke=\"black\"/>\n",
       "<polygon fill=\"black\" points=\"158.5,-195.441 155,-185.441 151.5,-195.441 158.5,-195.441\" stroke=\"black\"/>\n",
       "</g>\n",
       "<!-- 140135463176288 -->\n",
       "<g class=\"node\" id=\"node3\"><title>140135463176288</title>\n",
       "<polygon fill=\"none\" points=\"110.5,-75 110.5,-111 199.5,-111 199.5,-75 110.5,-75\" stroke=\"black\"/>\n",
       "<text font-family=\"Times,serif\" font-size=\"14.00\" text-anchor=\"middle\" x=\"155\" y=\"-89.3\">dense: Dense</text>\n",
       "</g>\n",
       "<!-- 140135557945888&#45;&gt;140135463176288 -->\n",
       "<g class=\"edge\" id=\"edge2\"><title>140135557945888-&gt;140135463176288</title>\n",
       "<path d=\"M155,-148.937C155,-140.807 155,-130.876 155,-121.705\" fill=\"none\" stroke=\"black\"/>\n",
       "<polygon fill=\"black\" points=\"158.5,-121.441 155,-111.441 151.5,-121.441 158.5,-121.441\" stroke=\"black\"/>\n",
       "</g>\n",
       "<!-- 140135464396952 -->\n",
       "<g class=\"node\" id=\"node4\"><title>140135464396952</title>\n",
       "<polygon fill=\"none\" points=\"89.5,-1 89.5,-37 220.5,-37 220.5,-1 89.5,-1\" stroke=\"black\"/>\n",
       "<text font-family=\"Times,serif\" font-size=\"14.00\" text-anchor=\"middle\" x=\"155\" y=\"-15.3\">activation: Activation</text>\n",
       "</g>\n",
       "<!-- 140135463176288&#45;&gt;140135464396952 -->\n",
       "<g class=\"edge\" id=\"edge3\"><title>140135463176288-&gt;140135464396952</title>\n",
       "<path d=\"M155,-74.937C155,-66.8072 155,-56.8761 155,-47.7047\" fill=\"none\" stroke=\"black\"/>\n",
       "<polygon fill=\"black\" points=\"158.5,-47.4406 155,-37.4407 151.5,-47.4407 158.5,-47.4406\" stroke=\"black\"/>\n",
       "</g>\n",
       "</g>\n",
       "</svg>"
      ],
      "text/plain": [
       "<IPython.core.display.SVG object>"
      ]
     },
     "execution_count": 4,
     "metadata": {},
     "output_type": "execute_result"
    }
   ],
   "source": [
    "SVG(model_to_dot(model, dpi=72).create(prog='dot', format='svg'))"
   ]
  },
  {
   "cell_type": "markdown",
   "metadata": {},
   "source": [
    "## モデル学習"
   ]
  },
  {
   "cell_type": "code",
   "execution_count": 5,
   "metadata": {
    "collapsed": false,
    "jupyter": {
     "outputs_hidden": false
    }
   },
   "outputs": [
    {
     "name": "stdout",
     "output_type": "stream",
     "text": [
      "Train on 60000 samples, validate on 10000 samples\n",
      "Epoch 1/10\n",
      "60000/60000 [==============================] - 31s 511us/sample - loss: 1.1537 - acc: 0.6016 - val_loss: 0.9462 - val_acc: 0.6740\n",
      "Epoch 2/10\n",
      "60000/60000 [==============================] - 27s 451us/sample - loss: 0.9109 - acc: 0.6823 - val_loss: 0.9088 - val_acc: 0.6822\n",
      "Epoch 3/10\n",
      "60000/60000 [==============================] - 32s 526us/sample - loss: 0.8712 - acc: 0.6943 - val_loss: 0.8842 - val_acc: 0.6949\n",
      "Epoch 4/10\n",
      "60000/60000 [==============================] - 38s 634us/sample - loss: 0.8509 - acc: 0.7002 - val_loss: 0.8649 - val_acc: 0.6984\n",
      "Epoch 5/10\n",
      "60000/60000 [==============================] - 39s 645us/sample - loss: 0.8260 - acc: 0.7070 - val_loss: 0.8571 - val_acc: 0.6991\n",
      "Epoch 6/10\n",
      "60000/60000 [==============================] - 37s 619us/sample - loss: 0.8106 - acc: 0.7138 - val_loss: 0.8427 - val_acc: 0.7084\n",
      "Epoch 7/10\n",
      "60000/60000 [==============================] - 38s 637us/sample - loss: 0.7945 - acc: 0.7155 - val_loss: 0.8258 - val_acc: 0.7104\n",
      "Epoch 8/10\n",
      "60000/60000 [==============================] - 39s 642us/sample - loss: 0.7828 - acc: 0.7209 - val_loss: 0.8274 - val_acc: 0.7061\n",
      "Epoch 00008: early stopping\n"
     ]
    }
   ],
   "source": [
    "history = model.fit(\n",
    "    x_train, y_train,\n",
    "    batch_size=400, epochs=10, verbose=1,\n",
    "    validation_data=(x_test, y_test),\n",
    "    # 早期終了: 検証データの誤差が大きくなってきた（或いは評価関数値が下がってきた）ところで学習をストップさせる\n",
    "    callbacks=[EarlyStopping(patience=0, verbose=1)]\n",
    ")"
   ]
  },
  {
   "cell_type": "markdown",
   "metadata": {},
   "source": [
    "## モデル評価"
   ]
  },
  {
   "cell_type": "code",
   "execution_count": 6,
   "metadata": {
    "collapsed": false,
    "jupyter": {
     "outputs_hidden": false
    }
   },
   "outputs": [
    {
     "name": "stdout",
     "output_type": "stream",
     "text": [
      "Test loss: 0.8273570850372315\n",
      "Test accuracy: 0.7061\n"
     ]
    },
    {
     "data": {
      "image/png": "[encoded data removed]",
      "text/plain": [
       "<Figure size 432x288 with 1 Axes>"
      ]
     },
     "metadata": {
      "needs_background": "light"
     },
     "output_type": "display_data"
    },
    {
     "data": {
      "image/png": "[encoded data removed]",
      "text/plain": [
       "<Figure size 432x288 with 1 Axes>"
      ]
     },
     "metadata": {
      "needs_background": "light"
     },
     "output_type": "display_data"
    }
   ],
   "source": [
    "score = model.evaluate(x_test, y_test, verbose=0)\n",
    "print('Test loss:', score[0])\n",
    "print('Test accuracy:', score[1])\n",
    "\n",
    "# Plot training & validation accuracy values\n",
    "plt.plot(history.history['acc'])\n",
    "plt.plot(history.history['val_acc'])\n",
    "plt.title('Model accuracy')\n",
    "plt.ylabel('Accuracy')\n",
    "plt.xlabel('Epoch')\n",
    "plt.legend(['Train', 'Test'], loc='upper left')\n",
    "plt.show()\n",
    "\n",
    "# Plot training & validation loss values\n",
    "plt.plot(history.history['loss'])\n",
    "plt.plot(history.history['val_loss'])\n",
    "plt.title('Model loss')\n",
    "plt.ylabel('Loss')\n",
    "plt.xlabel('Epoch')\n",
    "plt.legend(['Train', 'Test'], loc='upper left')\n",
    "plt.show()"
   ]
  }
 ],
 "metadata": {
  "kernelspec": {
   "display_name": "Python 3",
   "language": "python",
   "name": "python3"
  },
  "language_info": {
   "codemirror_mode": {
    "name": "ipython",
    "version": 3
   },
   "file_extension": ".py",
   "mimetype": "text/x-python",
   "name": "python",
   "nbconvert_exporter": "python",
   "pygments_lexer": "ipython3",
   "version": "3.6.8"
  }
 },
 "nbformat": 4,
 "nbformat_minor": 4
}
