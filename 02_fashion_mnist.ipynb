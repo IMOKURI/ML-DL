{
 "cells": [
  {
   "cell_type": "markdown",
   "metadata": {},
   "source": [
    "# Deep Learning入門\n",
    "\n",
    "## CNN"
   ]
  },
  {
   "cell_type": "code",
   "execution_count": 1,
   "metadata": {
    "collapsed": false,
    "jupyter": {
     "outputs_hidden": false
    }
   },
   "outputs": [],
   "source": [
    "import os\n",
    "\n",
    "import matplotlib.pyplot as plt\n",
    "import numpy as np\n",
    "import tensorflow.keras as keras\n",
    "from IPython.display import SVG\n",
    "from sklearn.model_selection import train_test_split\n",
    "from tensorflow.keras.callbacks import EarlyStopping\n",
    "from tensorflow.keras.datasets import cifar10, fashion_mnist\n",
    "from tensorflow.keras.layers import (Activation, Add, BatchNormalization,\n",
    "                                     Conv2D, Dense, Dropout, Flatten, Input,\n",
    "                                     MaxPooling2D, add)\n",
    "from tensorflow.keras.models import Model, Sequential\n",
    "from tensorflow.keras.utils import to_categorical\n",
    "from tensorflow.python.keras.utils.vis_utils import model_to_dot\n",
    "\n",
    "%matplotlib inline\n",
    "\n",
    "random_state = 42"
   ]
  },
  {
   "cell_type": "markdown",
   "metadata": {},
   "source": [
    "## 畳み込み層 パディング サンプル"
   ]
  },
  {
   "cell_type": "code",
   "execution_count": 2,
   "metadata": {
    "collapsed": false,
    "jupyter": {
     "outputs_hidden": false
    }
   },
   "outputs": [
    {
     "data": {
      "text/plain": [
       "array([[4., 3., 4.],\n",
       "       [2., 4., 3.],\n",
       "       [2., 3., 4.]], dtype=float32)"
      ]
     },
     "execution_count": 2,
     "metadata": {},
     "output_type": "execute_result"
    }
   ],
   "source": [
    "# サンプル画像 (5x5)\n",
    "sample_image = np.array([[1, 1, 1, 0, 0],\n",
    "                         [0, 1, 1, 1, 0],\n",
    "                         [0, 0, 1, 1, 1],\n",
    "                         [0, 0, 1, 1, 0],\n",
    "                         [0, 1, 1, 0, 0]]\n",
    "                        ).astype('float32').reshape(1, 5, 5, 1)\n",
    "\n",
    "# フィルタ\n",
    "W = np.array([[1, 0, 1],\n",
    "              [0, 1, 0],\n",
    "              [1, 0, 1]]).astype('float32').reshape(3, 3, 1, 1)\n",
    "\n",
    "model = Sequential()\n",
    "\n",
    "model.add(Conv2D(1, kernel_size=(3, 3), strides=(1, 1),\n",
    "                 padding='valid', input_shape=(5, 5, 1), use_bias=False))\n",
    "model.layers[0].set_weights([W])\n",
    "\n",
    "model.predict(sample_image).reshape(3, 3)"
   ]
  },
  {
   "cell_type": "markdown",
   "metadata": {},
   "source": [
    "## プーリング層 ストライド サンプル"
   ]
  },
  {
   "cell_type": "code",
   "execution_count": 3,
   "metadata": {
    "collapsed": false,
    "jupyter": {
     "outputs_hidden": false
    }
   },
   "outputs": [
    {
     "data": {
      "text/plain": [
       "array([[6., 8.],\n",
       "       [3., 4.]], dtype=float32)"
      ]
     },
     "execution_count": 3,
     "metadata": {},
     "output_type": "execute_result"
    }
   ],
   "source": [
    "# サンプル画像\n",
    "sample_image = np.array([[1, 1, 2, 4],\n",
    "                         [5, 6, 7, 8],\n",
    "                         [3, 2, 1, 0],\n",
    "                         [1, 2, 3, 4]]\n",
    "                        ).astype(\"float32\").reshape(1, 4, 4, 1)\n",
    "\n",
    "model = Sequential()\n",
    "\n",
    "model.add(MaxPooling2D(pool_size=(2, 2), strides=None,\n",
    "                       padding='valid', input_shape=(4, 4, 1)))\n",
    "\n",
    "model.predict(sample_image).reshape(2, 2)"
   ]
  },
  {
   "cell_type": "markdown",
   "metadata": {},
   "source": [
    "## データセット読み込み\n",
    "\n",
    "| ラベル | クラス                        |\n",
    "| ---    | ---                           |\n",
    "| 0      | T-シャツ/トップ (T-shirt/top) |\n",
    "| 1      | ズボン (Trouser)              |\n",
    "| 2      | プルオーバー (Pullover)       |\n",
    "| 3      | ドレス (Dress)                |\n",
    "| 4      | コート (Coat)                 |\n",
    "| 5      | サンダル (Sandal)             |\n",
    "| 6      | シャツ (Shirt)                |\n",
    "| 7      | スニーカー (Sneaker)          |\n",
    "| 8      | バッグ (Bag)                  |\n",
    "| 9      | アンクルブーツ (Ankle boot)   |"
   ]
  },
  {
   "cell_type": "code",
   "execution_count": 4,
   "metadata": {
    "collapsed": false,
    "jupyter": {
     "outputs_hidden": false
    }
   },
   "outputs": [
    {
     "data": {
      "image/png": "[encoded data removed]",
      "text/plain": [
       "<Figure size 648x1080 with 9 Axes>"
      ]
     },
     "metadata": {},
     "output_type": "display_data"
    }
   ],
   "source": [
    "(x_train, y_train), (x_test, y_test) = fashion_mnist.load_data()\n",
    "\n",
    "fig = plt.figure(figsize=(9, 15))\n",
    "fig.subplots_adjust(left=0, right=1, bottom=0, top=0.5, hspace=0.05,\n",
    "                    wspace=0.05)\n",
    "\n",
    "for i in range(9):\n",
    "    ax = fig.add_subplot(1, 9, i + 1, xticks=[], yticks=[])\n",
    "    ax.set_title(str(y_train[i]))\n",
    "    ax.imshow(x_train[i], cmap='gray')"
   ]
  },
  {
   "cell_type": "markdown",
   "metadata": {},
   "source": [
    "## 前処理\n",
    "\n",
    "CNNでは2次元の画像として処理していくために\n",
    "4次元テンソル (バッチサイズ、縦の画素数、横の画素数、チャンネル数)として扱う。\n",
    "チャンネル数は白黒画像の場合は1、 カラー画像の場合はRGBで3。"
   ]
  },
  {
   "cell_type": "code",
   "execution_count": 5,
   "metadata": {
    "collapsed": false,
    "jupyter": {
     "outputs_hidden": false
    }
   },
   "outputs": [
    {
     "data": {
      "text/plain": [
       "(60000, 28, 28, 1)"
      ]
     },
     "execution_count": 5,
     "metadata": {},
     "output_type": "execute_result"
    }
   ],
   "source": [
    "x_train.shape\n",
    "\n",
    "x_train = x_train.reshape((x_train.shape[0], 28, 28, 1)) / 255\n",
    "x_test = x_test.reshape((x_test.shape[0], 28, 28, 1)) / 255\n",
    "\n",
    "y_train = to_categorical(y_train)\n",
    "y_test = to_categorical(y_test)\n",
    "\n",
    "x_train.shape"
   ]
  },
  {
   "cell_type": "markdown",
   "metadata": {},
   "source": [
    "## モデル作成"
   ]
  },
  {
   "cell_type": "code",
   "execution_count": 6,
   "metadata": {
    "collapsed": false,
    "jupyter": {
     "outputs_hidden": false
    }
   },
   "outputs": [
    {
     "name": "stdout",
     "output_type": "stream",
     "text": [
      "Model: \"sequential_2\"\n",
      "_________________________________________________________________\n",
      "Layer (type)                 Output Shape              Param #   \n",
      "=================================================================\n",
      "conv2d_1 (Conv2D)            (None, 24, 24, 16)        416       \n",
      "_________________________________________________________________\n",
      "max_pooling2d_1 (MaxPooling2 (None, 12, 12, 16)        0         \n",
      "_________________________________________________________________\n",
      "batch_normalization (BatchNo (None, 12, 12, 16)        64        \n",
      "_________________________________________________________________\n",
      "conv2d_2 (Conv2D)            (None, 8, 8, 64)          25664     \n",
      "_________________________________________________________________\n",
      "max_pooling2d_2 (MaxPooling2 (None, 4, 4, 64)          0         \n",
      "_________________________________________________________________\n",
      "flatten (Flatten)            (None, 1024)              0         \n",
      "_________________________________________________________________\n",
      "dense (Dense)                (None, 10)                10250     \n",
      "=================================================================\n",
      "Total params: 36,394\n",
      "Trainable params: 36,362\n",
      "Non-trainable params: 32\n",
      "_________________________________________________________________\n"
     ]
    }
   ],
   "source": [
    "model = Sequential()\n",
    "\n",
    "# 入力画像 28x28x1 (縦の画素数)x(横の画素数)x(チャンネル数)\n",
    "model.add(Conv2D(16, kernel_size=(5, 5), activation='relu',\n",
    "                 kernel_initializer='he_normal', input_shape=(28, 28, 1)))  # 28x28x1 -> 24x24x16\n",
    "model.add(MaxPooling2D(pool_size=(2, 2)))  # 24x24x16 -> 12x12x16\n",
    "model.add(BatchNormalization())\n",
    "model.add(Conv2D(64, kernel_size=(5, 5), activation='relu',\n",
    "                 kernel_initializer='he_normal'))  # 12x12x16 -> 8x8x64\n",
    "model.add(MaxPooling2D(pool_size=(2, 2)))  # 8x8x64 -> 4x4x64\n",
    "\n",
    "model.add(Flatten())  # 4x4x64-> 1024\n",
    "model.add(Dense(10, activation='softmax'))  # 1024 -> 10\n",
    "\n",
    "model.compile(\n",
    "    loss=keras.losses.categorical_crossentropy,\n",
    "    optimizer='adam',\n",
    "    metrics=['acc']\n",
    ")\n",
    "\n",
    "model.summary()"
   ]
  },
  {
   "cell_type": "markdown",
   "metadata": {},
   "source": [
    "## モデル可視化"
   ]
  },
  {
   "cell_type": "code",
   "execution_count": 7,
   "metadata": {
    "collapsed": false,
    "jupyter": {
     "outputs_hidden": false
    }
   },
   "outputs": [
    {
     "data": {
      "image/svg+xml": [
       "<svg height=\"644pt\" viewBox=\"0.00 0.00 404.00 644.00\" width=\"404pt\" xmlns=\"http://www.w3.org/2000/svg\" xmlns:xlink=\"http://www.w3.org/1999/xlink\">\n",
       "<g class=\"graph\" id=\"graph0\" transform=\"scale(1 1) rotate(0) translate(4 640)\">\n",
       "<title>G</title>\n",
       "<polygon fill=\"white\" points=\"-4,5 -4,-640 401,-640 401,5 -4,5\" stroke=\"white\"/>\n",
       "<!-- 140076761073592 -->\n",
       "<g class=\"node\" id=\"node1\"><title>140076761073592</title>\n",
       "<polygon fill=\"none\" points=\"37,-589 37,-635 359,-635 359,-589 37,-589\" stroke=\"black\"/>\n",
       "<text font-family=\"Times,serif\" font-size=\"14.00\" text-anchor=\"middle\" x=\"122\" y=\"-608.3\">conv2d_1_input: InputLayer</text>\n",
       "<polyline fill=\"none\" points=\"207,-589 207,-635 \" stroke=\"black\"/>\n",
       "<text font-family=\"Times,serif\" font-size=\"14.00\" text-anchor=\"middle\" x=\"234.5\" y=\"-619.8\">input:</text>\n",
       "<polyline fill=\"none\" points=\"207,-612 262,-612 \" stroke=\"black\"/>\n",
       "<text font-family=\"Times,serif\" font-size=\"14.00\" text-anchor=\"middle\" x=\"234.5\" y=\"-596.8\">output:</text>\n",
       "<polyline fill=\"none\" points=\"262,-589 262,-635 \" stroke=\"black\"/>\n",
       "<text font-family=\"Times,serif\" font-size=\"14.00\" text-anchor=\"middle\" x=\"310.5\" y=\"-619.8\">[(?, 28, 28, 1)]</text>\n",
       "<polyline fill=\"none\" points=\"262,-612 359,-612 \" stroke=\"black\"/>\n",
       "<text font-family=\"Times,serif\" font-size=\"14.00\" text-anchor=\"middle\" x=\"310.5\" y=\"-596.8\">[(?, 28, 28, 1)]</text>\n",
       "</g>\n",
       "<!-- 140076761071856 -->\n",
       "<g class=\"node\" id=\"node2\"><title>140076761071856</title>\n",
       "<polygon fill=\"none\" points=\"62,-505 62,-551 334,-551 334,-505 62,-505\" stroke=\"black\"/>\n",
       "<text font-family=\"Times,serif\" font-size=\"14.00\" text-anchor=\"middle\" x=\"123\" y=\"-524.3\">conv2d_1: Conv2D</text>\n",
       "<polyline fill=\"none\" points=\"184,-505 184,-551 \" stroke=\"black\"/>\n",
       "<text font-family=\"Times,serif\" font-size=\"14.00\" text-anchor=\"middle\" x=\"211.5\" y=\"-535.8\">input:</text>\n",
       "<polyline fill=\"none\" points=\"184,-528 239,-528 \" stroke=\"black\"/>\n",
       "<text font-family=\"Times,serif\" font-size=\"14.00\" text-anchor=\"middle\" x=\"211.5\" y=\"-512.8\">output:</text>\n",
       "<polyline fill=\"none\" points=\"239,-505 239,-551 \" stroke=\"black\"/>\n",
       "<text font-family=\"Times,serif\" font-size=\"14.00\" text-anchor=\"middle\" x=\"286.5\" y=\"-535.8\">(?, 28, 28, 1)</text>\n",
       "<polyline fill=\"none\" points=\"239,-528 334,-528 \" stroke=\"black\"/>\n",
       "<text font-family=\"Times,serif\" font-size=\"14.00\" text-anchor=\"middle\" x=\"286.5\" y=\"-512.8\">(?, 24, 24, 16)</text>\n",
       "</g>\n",
       "<!-- 140076761073592&#45;&gt;140076761071856 -->\n",
       "<g class=\"edge\" id=\"edge1\"><title>140076761073592-&gt;140076761071856</title>\n",
       "<path d=\"M198,-588.593C198,-580.118 198,-570.297 198,-561.104\" fill=\"none\" stroke=\"black\"/>\n",
       "<polygon fill=\"black\" points=\"201.5,-561.096 198,-551.096 194.5,-561.096 201.5,-561.096\" stroke=\"black\"/>\n",
       "</g>\n",
       "<!-- 140076761072416 -->\n",
       "<g class=\"node\" id=\"node3\"><title>140076761072416</title>\n",
       "<polygon fill=\"none\" points=\"19.5,-421 19.5,-467 376.5,-467 376.5,-421 19.5,-421\" stroke=\"black\"/>\n",
       "<text font-family=\"Times,serif\" font-size=\"14.00\" text-anchor=\"middle\" x=\"123\" y=\"-440.3\">max_pooling2d_1: MaxPooling2D</text>\n",
       "<polyline fill=\"none\" points=\"226.5,-421 226.5,-467 \" stroke=\"black\"/>\n",
       "<text font-family=\"Times,serif\" font-size=\"14.00\" text-anchor=\"middle\" x=\"254\" y=\"-451.8\">input:</text>\n",
       "<polyline fill=\"none\" points=\"226.5,-444 281.5,-444 \" stroke=\"black\"/>\n",
       "<text font-family=\"Times,serif\" font-size=\"14.00\" text-anchor=\"middle\" x=\"254\" y=\"-428.8\">output:</text>\n",
       "<polyline fill=\"none\" points=\"281.5,-421 281.5,-467 \" stroke=\"black\"/>\n",
       "<text font-family=\"Times,serif\" font-size=\"14.00\" text-anchor=\"middle\" x=\"329\" y=\"-451.8\">(?, 24, 24, 16)</text>\n",
       "<polyline fill=\"none\" points=\"281.5,-444 376.5,-444 \" stroke=\"black\"/>\n",
       "<text font-family=\"Times,serif\" font-size=\"14.00\" text-anchor=\"middle\" x=\"329\" y=\"-428.8\">(?, 12, 12, 16)</text>\n",
       "</g>\n",
       "<!-- 140076761071856&#45;&gt;140076761072416 -->\n",
       "<g class=\"edge\" id=\"edge2\"><title>140076761071856-&gt;140076761072416</title>\n",
       "<path d=\"M198,-504.593C198,-496.118 198,-486.297 198,-477.104\" fill=\"none\" stroke=\"black\"/>\n",
       "<polygon fill=\"black\" points=\"201.5,-477.096 198,-467.096 194.5,-477.096 201.5,-477.096\" stroke=\"black\"/>\n",
       "</g>\n",
       "<!-- 140076761072304 -->\n",
       "<g class=\"node\" id=\"node4\"><title>140076761072304</title>\n",
       "<polygon fill=\"none\" points=\"0,-337 0,-383 396,-383 396,-337 0,-337\" stroke=\"black\"/>\n",
       "<text font-family=\"Times,serif\" font-size=\"14.00\" text-anchor=\"middle\" x=\"123\" y=\"-356.3\">batch_normalization: BatchNormalization</text>\n",
       "<polyline fill=\"none\" points=\"246,-337 246,-383 \" stroke=\"black\"/>\n",
       "<text font-family=\"Times,serif\" font-size=\"14.00\" text-anchor=\"middle\" x=\"273.5\" y=\"-367.8\">input:</text>\n",
       "<polyline fill=\"none\" points=\"246,-360 301,-360 \" stroke=\"black\"/>\n",
       "<text font-family=\"Times,serif\" font-size=\"14.00\" text-anchor=\"middle\" x=\"273.5\" y=\"-344.8\">output:</text>\n",
       "<polyline fill=\"none\" points=\"301,-337 301,-383 \" stroke=\"black\"/>\n",
       "<text font-family=\"Times,serif\" font-size=\"14.00\" text-anchor=\"middle\" x=\"348.5\" y=\"-367.8\">(?, 12, 12, 16)</text>\n",
       "<polyline fill=\"none\" points=\"301,-360 396,-360 \" stroke=\"black\"/>\n",
       "<text font-family=\"Times,serif\" font-size=\"14.00\" text-anchor=\"middle\" x=\"348.5\" y=\"-344.8\">(?, 12, 12, 16)</text>\n",
       "</g>\n",
       "<!-- 140076761072416&#45;&gt;140076761072304 -->\n",
       "<g class=\"edge\" id=\"edge3\"><title>140076761072416-&gt;140076761072304</title>\n",
       "<path d=\"M198,-420.593C198,-412.118 198,-402.297 198,-393.104\" fill=\"none\" stroke=\"black\"/>\n",
       "<polygon fill=\"black\" points=\"201.5,-393.096 198,-383.096 194.5,-393.096 201.5,-393.096\" stroke=\"black\"/>\n",
       "</g>\n",
       "<!-- 140077011041976 -->\n",
       "<g class=\"node\" id=\"node5\"><title>140077011041976</title>\n",
       "<polygon fill=\"none\" points=\"62,-253 62,-299 334,-299 334,-253 62,-253\" stroke=\"black\"/>\n",
       "<text font-family=\"Times,serif\" font-size=\"14.00\" text-anchor=\"middle\" x=\"123\" y=\"-272.3\">conv2d_2: Conv2D</text>\n",
       "<polyline fill=\"none\" points=\"184,-253 184,-299 \" stroke=\"black\"/>\n",
       "<text font-family=\"Times,serif\" font-size=\"14.00\" text-anchor=\"middle\" x=\"211.5\" y=\"-283.8\">input:</text>\n",
       "<polyline fill=\"none\" points=\"184,-276 239,-276 \" stroke=\"black\"/>\n",
       "<text font-family=\"Times,serif\" font-size=\"14.00\" text-anchor=\"middle\" x=\"211.5\" y=\"-260.8\">output:</text>\n",
       "<polyline fill=\"none\" points=\"239,-253 239,-299 \" stroke=\"black\"/>\n",
       "<text font-family=\"Times,serif\" font-size=\"14.00\" text-anchor=\"middle\" x=\"286.5\" y=\"-283.8\">(?, 12, 12, 16)</text>\n",
       "<polyline fill=\"none\" points=\"239,-276 334,-276 \" stroke=\"black\"/>\n",
       "<text font-family=\"Times,serif\" font-size=\"14.00\" text-anchor=\"middle\" x=\"286.5\" y=\"-260.8\">(?, 8, 8, 64)</text>\n",
       "</g>\n",
       "<!-- 140076761072304&#45;&gt;140077011041976 -->\n",
       "<g class=\"edge\" id=\"edge4\"><title>140076761072304-&gt;140077011041976</title>\n",
       "<path d=\"M198,-336.593C198,-328.118 198,-318.297 198,-309.104\" fill=\"none\" stroke=\"black\"/>\n",
       "<polygon fill=\"black\" points=\"201.5,-309.096 198,-299.096 194.5,-309.096 201.5,-309.096\" stroke=\"black\"/>\n",
       "</g>\n",
       "<!-- 140077011088328 -->\n",
       "<g class=\"node\" id=\"node6\"><title>140077011088328</title>\n",
       "<polygon fill=\"none\" points=\"26.5,-169 26.5,-215 369.5,-215 369.5,-169 26.5,-169\" stroke=\"black\"/>\n",
       "<text font-family=\"Times,serif\" font-size=\"14.00\" text-anchor=\"middle\" x=\"130\" y=\"-188.3\">max_pooling2d_2: MaxPooling2D</text>\n",
       "<polyline fill=\"none\" points=\"233.5,-169 233.5,-215 \" stroke=\"black\"/>\n",
       "<text font-family=\"Times,serif\" font-size=\"14.00\" text-anchor=\"middle\" x=\"261\" y=\"-199.8\">input:</text>\n",
       "<polyline fill=\"none\" points=\"233.5,-192 288.5,-192 \" stroke=\"black\"/>\n",
       "<text font-family=\"Times,serif\" font-size=\"14.00\" text-anchor=\"middle\" x=\"261\" y=\"-176.8\">output:</text>\n",
       "<polyline fill=\"none\" points=\"288.5,-169 288.5,-215 \" stroke=\"black\"/>\n",
       "<text font-family=\"Times,serif\" font-size=\"14.00\" text-anchor=\"middle\" x=\"329\" y=\"-199.8\">(?, 8, 8, 64)</text>\n",
       "<polyline fill=\"none\" points=\"288.5,-192 369.5,-192 \" stroke=\"black\"/>\n",
       "<text font-family=\"Times,serif\" font-size=\"14.00\" text-anchor=\"middle\" x=\"329\" y=\"-176.8\">(?, 4, 4, 64)</text>\n",
       "</g>\n",
       "<!-- 140077011041976&#45;&gt;140077011088328 -->\n",
       "<g class=\"edge\" id=\"edge5\"><title>140077011041976-&gt;140077011088328</title>\n",
       "<path d=\"M198,-252.593C198,-244.118 198,-234.297 198,-225.104\" fill=\"none\" stroke=\"black\"/>\n",
       "<polygon fill=\"black\" points=\"201.5,-225.096 198,-215.096 194.5,-225.096 201.5,-225.096\" stroke=\"black\"/>\n",
       "</g>\n",
       "<!-- 140077010626376 -->\n",
       "<g class=\"node\" id=\"node7\"><title>140077010626376</title>\n",
       "<polygon fill=\"none\" points=\"82.5,-85 82.5,-131 313.5,-131 313.5,-85 82.5,-85\" stroke=\"black\"/>\n",
       "<text font-family=\"Times,serif\" font-size=\"14.00\" text-anchor=\"middle\" x=\"130\" y=\"-104.3\">flatten: Flatten</text>\n",
       "<polyline fill=\"none\" points=\"177.5,-85 177.5,-131 \" stroke=\"black\"/>\n",
       "<text font-family=\"Times,serif\" font-size=\"14.00\" text-anchor=\"middle\" x=\"205\" y=\"-115.8\">input:</text>\n",
       "<polyline fill=\"none\" points=\"177.5,-108 232.5,-108 \" stroke=\"black\"/>\n",
       "<text font-family=\"Times,serif\" font-size=\"14.00\" text-anchor=\"middle\" x=\"205\" y=\"-92.8\">output:</text>\n",
       "<polyline fill=\"none\" points=\"232.5,-85 232.5,-131 \" stroke=\"black\"/>\n",
       "<text font-family=\"Times,serif\" font-size=\"14.00\" text-anchor=\"middle\" x=\"273\" y=\"-115.8\">(?, 4, 4, 64)</text>\n",
       "<polyline fill=\"none\" points=\"232.5,-108 313.5,-108 \" stroke=\"black\"/>\n",
       "<text font-family=\"Times,serif\" font-size=\"14.00\" text-anchor=\"middle\" x=\"273\" y=\"-92.8\">(?, 1024)</text>\n",
       "</g>\n",
       "<!-- 140077011088328&#45;&gt;140077010626376 -->\n",
       "<g class=\"edge\" id=\"edge6\"><title>140077011088328-&gt;140077010626376</title>\n",
       "<path d=\"M198,-168.593C198,-160.118 198,-150.297 198,-141.104\" fill=\"none\" stroke=\"black\"/>\n",
       "<polygon fill=\"black\" points=\"201.5,-141.096 198,-131.096 194.5,-141.096 201.5,-141.096\" stroke=\"black\"/>\n",
       "</g>\n",
       "<!-- 140077010626320 -->\n",
       "<g class=\"node\" id=\"node8\"><title>140077010626320</title>\n",
       "<polygon fill=\"none\" points=\"93,-1 93,-47 303,-47 303,-1 93,-1\" stroke=\"black\"/>\n",
       "<text font-family=\"Times,serif\" font-size=\"14.00\" text-anchor=\"middle\" x=\"137.5\" y=\"-20.3\">dense: Dense</text>\n",
       "<polyline fill=\"none\" points=\"182,-1 182,-47 \" stroke=\"black\"/>\n",
       "<text font-family=\"Times,serif\" font-size=\"14.00\" text-anchor=\"middle\" x=\"209.5\" y=\"-31.8\">input:</text>\n",
       "<polyline fill=\"none\" points=\"182,-24 237,-24 \" stroke=\"black\"/>\n",
       "<text font-family=\"Times,serif\" font-size=\"14.00\" text-anchor=\"middle\" x=\"209.5\" y=\"-8.8\">output:</text>\n",
       "<polyline fill=\"none\" points=\"237,-1 237,-47 \" stroke=\"black\"/>\n",
       "<text font-family=\"Times,serif\" font-size=\"14.00\" text-anchor=\"middle\" x=\"270\" y=\"-31.8\">(?, 1024)</text>\n",
       "<polyline fill=\"none\" points=\"237,-24 303,-24 \" stroke=\"black\"/>\n",
       "<text font-family=\"Times,serif\" font-size=\"14.00\" text-anchor=\"middle\" x=\"270\" y=\"-8.8\">(?, 10)</text>\n",
       "</g>\n",
       "<!-- 140077010626376&#45;&gt;140077010626320 -->\n",
       "<g class=\"edge\" id=\"edge7\"><title>140077010626376-&gt;140077010626320</title>\n",
       "<path d=\"M198,-84.5931C198,-76.1177 198,-66.2974 198,-57.104\" fill=\"none\" stroke=\"black\"/>\n",
       "<polygon fill=\"black\" points=\"201.5,-57.0958 198,-47.0959 194.5,-57.0959 201.5,-57.0958\" stroke=\"black\"/>\n",
       "</g>\n",
       "</g>\n",
       "</svg>"
      ],
      "text/plain": [
       "<IPython.core.display.SVG object>"
      ]
     },
     "execution_count": 7,
     "metadata": {},
     "output_type": "execute_result"
    }
   ],
   "source": [
    "SVG(model_to_dot(model, dpi=72, show_shapes=True).create(prog='dot', format='svg'))"
   ]
  },
  {
   "cell_type": "markdown",
   "metadata": {},
   "source": [
    "## モデル学習"
   ]
  },
  {
   "cell_type": "code",
   "execution_count": 8,
   "metadata": {
    "collapsed": false,
    "jupyter": {
     "outputs_hidden": false
    }
   },
   "outputs": [
    {
     "name": "stdout",
     "output_type": "stream",
     "text": [
      "Train on 60000 samples, validate on 10000 samples\n",
      "Epoch 1/100\n",
      "60000/60000 [==============================] - 34s 570us/sample - loss: 0.4654 - acc: 0.8332 - val_loss: 0.3860 - val_acc: 0.8639\n",
      "Epoch 2/100\n",
      "60000/60000 [==============================] - 33s 550us/sample - loss: 0.3085 - acc: 0.8888 - val_loss: 0.3364 - val_acc: 0.8797\n",
      "Epoch 3/100\n",
      "60000/60000 [==============================] - 33s 549us/sample - loss: 0.2657 - acc: 0.9044 - val_loss: 0.3292 - val_acc: 0.8843\n",
      "Epoch 4/100\n",
      "60000/60000 [==============================] - 33s 545us/sample - loss: 0.2373 - acc: 0.9145 - val_loss: 0.3173 - val_acc: 0.8895\n",
      "Epoch 5/100\n",
      "60000/60000 [==============================] - 33s 547us/sample - loss: 0.2118 - acc: 0.9229 - val_loss: 0.3065 - val_acc: 0.8929\n",
      "Epoch 6/100\n",
      "60000/60000 [==============================] - 33s 546us/sample - loss: 0.1971 - acc: 0.9280 - val_loss: 0.3236 - val_acc: 0.8886\n",
      "Epoch 00006: early stopping\n"
     ]
    }
   ],
   "source": [
    "early_stopping = EarlyStopping(patience=1, verbose=1)\n",
    "history = model.fit(x=x_train, y=y_train, batch_size=128, epochs=100, verbose=1,\n",
    "                    validation_data=(x_test, y_test), callbacks=[early_stopping])"
   ]
  },
  {
   "cell_type": "markdown",
   "metadata": {},
   "source": [
    "## モデル評価"
   ]
  },
  {
   "cell_type": "code",
   "execution_count": 9,
   "metadata": {
    "collapsed": false,
    "jupyter": {
     "outputs_hidden": false
    }
   },
   "outputs": [
    {
     "name": "stdout",
     "output_type": "stream",
     "text": [
      "Test loss: 0.3236256464958191\n",
      "Test accuracy: 0.8886\n"
     ]
    },
    {
     "data": {
      "image/png": "[encoded data removed]",
      "text/plain": [
       "<Figure size 432x288 with 1 Axes>"
      ]
     },
     "metadata": {
      "needs_background": "light"
     },
     "output_type": "display_data"
    },
    {
     "data": {
      "image/png": "[encoded data removed]",
      "text/plain": [
       "<Figure size 432x288 with 1 Axes>"
      ]
     },
     "metadata": {
      "needs_background": "light"
     },
     "output_type": "display_data"
    }
   ],
   "source": [
    "score = model.evaluate(x_test, y_test, verbose=0)\n",
    "print('Test loss:', score[0])\n",
    "print('Test accuracy:', score[1])\n",
    "\n",
    "# Plot training & validation accuracy values\n",
    "plt.plot(history.history['acc'])\n",
    "plt.plot(history.history['val_acc'])\n",
    "plt.title('Model accuracy')\n",
    "plt.ylabel('Accuracy')\n",
    "plt.xlabel('Epoch')\n",
    "plt.legend(['Train', 'Test'], loc='upper left')\n",
    "plt.show()\n",
    "\n",
    "# Plot training & validation loss values\n",
    "plt.plot(history.history['loss'])\n",
    "plt.plot(history.history['val_loss'])\n",
    "plt.title('Model loss')\n",
    "plt.ylabel('Loss')\n",
    "plt.xlabel('Epoch')\n",
    "plt.legend(['Train', 'Test'], loc='upper left')\n",
    "plt.show()"
   ]
  }
 ],
 "metadata": {
  "kernelspec": {
   "display_name": "Python 3",
   "language": "python",
   "name": "python3"
  },
  "language_info": {
   "codemirror_mode": {
    "name": "ipython",
    "version": 3
   },
   "file_extension": ".py",
   "mimetype": "text/x-python",
   "name": "python",
   "nbconvert_exporter": "python",
   "pygments_lexer": "ipython3",
   "version": "3.6.8"
  }
 },
 "nbformat": 4,
 "nbformat_minor": 4
}
