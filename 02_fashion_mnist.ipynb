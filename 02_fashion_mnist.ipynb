{
 "cells": [
  {
   "cell_type": "markdown",
   "metadata": {},
   "source": [
    "# Deep Learning入門\n",
    "\n",
    "## CNN"
   ]
  },
  {
   "cell_type": "code",
   "execution_count": 1,
   "metadata": {
    "collapsed": false,
    "jupyter": {
     "outputs_hidden": false
    }
   },
   "outputs": [],
   "source": [
    "import os\n",
    "\n",
    "import matplotlib.pyplot as plt\n",
    "import numpy as np\n",
    "import tensorflow.keras as keras\n",
    "from IPython.display import SVG\n",
    "from sklearn.model_selection import train_test_split\n",
    "from tensorflow.keras.callbacks import EarlyStopping\n",
    "from tensorflow.keras.datasets import cifar10, fashion_mnist\n",
    "from tensorflow.keras.layers import (Activation, Add, BatchNormalization,\n",
    "                                     Conv2D, Dense, Dropout, Flatten, Input,\n",
    "                                     MaxPooling2D, add)\n",
    "from tensorflow.keras.models import Model, Sequential\n",
    "from tensorflow.keras.utils import to_categorical\n",
    "from tensorflow.python.keras.utils.vis_utils import model_to_dot\n",
    "\n",
    "%matplotlib inline\n",
    "\n",
    "random_state = 42"
   ]
  },
  {
   "cell_type": "markdown",
   "metadata": {},
   "source": [
    "## 畳み込み層 パディング サンプル"
   ]
  },
  {
   "cell_type": "code",
   "execution_count": 2,
   "metadata": {
    "collapsed": false,
    "jupyter": {
     "outputs_hidden": false
    }
   },
   "outputs": [
    {
     "data": {
      "text/plain": [
       "array([[4., 3., 4.],\n",
       "       [2., 4., 3.],\n",
       "       [2., 3., 4.]], dtype=float32)"
      ]
     },
     "execution_count": 2,
     "metadata": {},
     "output_type": "execute_result"
    }
   ],
   "source": [
    "# サンプル画像 (5x5)\n",
    "sample_image = np.array([[1, 1, 1, 0, 0],\n",
    "                         [0, 1, 1, 1, 0],\n",
    "                         [0, 0, 1, 1, 1],\n",
    "                         [0, 0, 1, 1, 0],\n",
    "                         [0, 1, 1, 0, 0]]\n",
    "                        ).astype('float32').reshape(1, 5, 5, 1)\n",
    "\n",
    "# フィルタ\n",
    "W = np.array([[1, 0, 1],\n",
    "              [0, 1, 0],\n",
    "              [1, 0, 1]]).astype('float32').reshape(3, 3, 1, 1)\n",
    "\n",
    "model = Sequential()\n",
    "\n",
    "model.add(Conv2D(1, kernel_size=(3, 3), strides=(1, 1),\n",
    "                 padding='valid', input_shape=(5, 5, 1), use_bias=False))\n",
    "model.layers[0].set_weights([W])\n",
    "\n",
    "model.predict(sample_image).reshape(3, 3)"
   ]
  },
  {
   "cell_type": "markdown",
   "metadata": {},
   "source": [
    "## プーリング層 ストライド サンプル"
   ]
  },
  {
   "cell_type": "code",
   "execution_count": 3,
   "metadata": {
    "collapsed": false,
    "jupyter": {
     "outputs_hidden": false
    }
   },
   "outputs": [
    {
     "data": {
      "text/plain": [
       "array([[6., 8.],\n",
       "       [3., 4.]], dtype=float32)"
      ]
     },
     "execution_count": 3,
     "metadata": {},
     "output_type": "execute_result"
    }
   ],
   "source": [
    "# サンプル画像\n",
    "sample_image = np.array([[1, 1, 2, 4],\n",
    "                         [5, 6, 7, 8],\n",
    "                         [3, 2, 1, 0],\n",
    "                         [1, 2, 3, 4]]\n",
    "                        ).astype(\"float32\").reshape(1, 4, 4, 1)\n",
    "\n",
    "model = Sequential()\n",
    "\n",
    "model.add(MaxPooling2D(pool_size=(2, 2), strides=None,\n",
    "                       padding='valid', input_shape=(4, 4, 1)))\n",
    "\n",
    "model.predict(sample_image).reshape(2, 2)"
   ]
  },
  {
   "cell_type": "markdown",
   "metadata": {},
   "source": [
    "## データセット読み込み\n",
    "\n",
    "| ラベル | クラス                        |\n",
    "| ---    | ---                           |\n",
    "| 0      | T-シャツ/トップ (T-shirt/top) |\n",
    "| 1      | ズボン (Trouser)              |\n",
    "| 2      | プルオーバー (Pullover)       |\n",
    "| 3      | ドレス (Dress)                |\n",
    "| 4      | コート (Coat)                 |\n",
    "| 5      | サンダル (Sandal)             |\n",
    "| 6      | シャツ (Shirt)                |\n",
    "| 7      | スニーカー (Sneaker)          |\n",
    "| 8      | バッグ (Bag)                  |\n",
    "| 9      | アンクルブーツ (Ankle boot)   |"
   ]
  },
  {
   "cell_type": "code",
   "execution_count": 4,
   "metadata": {
    "collapsed": false,
    "jupyter": {
     "outputs_hidden": false
    }
   },
   "outputs": [
    {
     "data": {
      "image/png": "[encoded data removed]",
      "text/plain": [
       "<Figure size 648x1080 with 9 Axes>"
      ]
     },
     "metadata": {},
     "output_type": "display_data"
    }
   ],
   "source": [
    "(x_train, y_train), (x_test, y_test) = fashion_mnist.load_data()\n",
    "\n",
    "fig = plt.figure(figsize=(9, 15))\n",
    "fig.subplots_adjust(left=0, right=1, bottom=0, top=0.5, hspace=0.05,\n",
    "                    wspace=0.05)\n",
    "\n",
    "for i in range(9):\n",
    "    ax = fig.add_subplot(1, 9, i + 1, xticks=[], yticks=[])\n",
    "    ax.set_title(str(y_train[i]))\n",
    "    ax.imshow(x_train[i], cmap='gray')"
   ]
  },
  {
   "cell_type": "markdown",
   "metadata": {},
   "source": [
    "## 前処理\n",
    "\n",
    "CNNでは2次元の画像として処理していくために\n",
    "4次元テンソル (バッチサイズ、縦の画素数、横の画素数、チャンネル数)として扱う。\n",
    "チャンネル数は白黒画像の場合は1、 カラー画像の場合はRGBで3。"
   ]
  },
  {
   "cell_type": "code",
   "execution_count": 5,
   "metadata": {
    "collapsed": false,
    "jupyter": {
     "outputs_hidden": false
    }
   },
   "outputs": [
    {
     "data": {
      "text/plain": [
       "(60000, 28, 28, 1)"
      ]
     },
     "execution_count": 5,
     "metadata": {},
     "output_type": "execute_result"
    }
   ],
   "source": [
    "x_train.shape\n",
    "\n",
    "x_train = x_train.reshape((x_train.shape[0], 28, 28, 1)) / 255\n",
    "x_test = x_test.reshape((x_test.shape[0], 28, 28, 1)) / 255\n",
    "\n",
    "y_train = to_categorical(y_train)\n",
    "y_test = to_categorical(y_test)\n",
    "\n",
    "x_train.shape"
   ]
  },
  {
   "cell_type": "markdown",
   "metadata": {},
   "source": [
    "## モデル作成"
   ]
  },
  {
   "cell_type": "code",
   "execution_count": 6,
   "metadata": {
    "collapsed": false,
    "jupyter": {
     "outputs_hidden": false
    }
   },
   "outputs": [
    {
     "name": "stdout",
     "output_type": "stream",
     "text": [
      "Model: \"sequential_2\"\n",
      "_________________________________________________________________\n",
      "Layer (type)                 Output Shape              Param #   \n",
      "=================================================================\n",
      "conv2d_1 (Conv2D)            (None, 24, 24, 16)        416       \n",
      "_________________________________________________________________\n",
      "max_pooling2d_1 (MaxPooling2 (None, 12, 12, 16)        0         \n",
      "_________________________________________________________________\n",
      "conv2d_2 (Conv2D)            (None, 8, 8, 64)          25664     \n",
      "_________________________________________________________________\n",
      "max_pooling2d_2 (MaxPooling2 (None, 4, 4, 64)          0         \n",
      "_________________________________________________________________\n",
      "flatten (Flatten)            (None, 1024)              0         \n",
      "_________________________________________________________________\n",
      "dense (Dense)                (None, 10)                10250     \n",
      "=================================================================\n",
      "Total params: 36,330\n",
      "Trainable params: 36,330\n",
      "Non-trainable params: 0\n",
      "_________________________________________________________________\n"
     ]
    }
   ],
   "source": [
    "model = Sequential()\n",
    "\n",
    "# 入力画像 28x28x1 (縦の画素数)x(横の画素数)x(チャンネル数)\n",
    "model.add(Conv2D(16, kernel_size=(5, 5), activation='relu',\n",
    "                 kernel_initializer='he_normal', input_shape=(28, 28, 1)))  # 28x28x1 -> 24x24x16\n",
    "model.add(MaxPooling2D(pool_size=(2, 2)))  # 24x24x16 -> 12x12x16\n",
    "model.add(Conv2D(64, kernel_size=(5, 5), activation='relu',\n",
    "                 kernel_initializer='he_normal'))  # 12x12x16 -> 8x8x64\n",
    "model.add(MaxPooling2D(pool_size=(2, 2)))  # 8x8x64 -> 4x4x64\n",
    "\n",
    "model.add(Flatten())  # 4x4x64-> 1024\n",
    "model.add(Dense(10, activation='softmax'))  # 1024 -> 10\n",
    "\n",
    "model.compile(\n",
    "    loss=keras.losses.categorical_crossentropy,\n",
    "    optimizer='adam',\n",
    "    metrics=['acc']\n",
    ")\n",
    "\n",
    "model.summary()"
   ]
  },
  {
   "cell_type": "markdown",
   "metadata": {},
   "source": [
    "## モデル可視化"
   ]
  },
  {
   "cell_type": "code",
   "execution_count": 7,
   "metadata": {
    "collapsed": false,
    "jupyter": {
     "outputs_hidden": false
    }
   },
   "outputs": [
    {
     "data": {
      "image/svg+xml": [
       "<svg height=\"560pt\" viewBox=\"0.00 0.00 364.00 560.00\" width=\"364pt\" xmlns=\"http://www.w3.org/2000/svg\" xmlns:xlink=\"http://www.w3.org/1999/xlink\">\n",
       "<g class=\"graph\" id=\"graph0\" transform=\"scale(1 1) rotate(0) translate(4 556)\">\n",
       "<title>G</title>\n",
       "<polygon fill=\"white\" points=\"-4,5 -4,-556 361,-556 361,5 -4,5\" stroke=\"white\"/>\n",
       "<!-- 140702130136680 -->\n",
       "<g class=\"node\" id=\"node1\"><title>140702130136680</title>\n",
       "<polygon fill=\"none\" points=\"17,-505 17,-551 339,-551 339,-505 17,-505\" stroke=\"black\"/>\n",
       "<text font-family=\"Times,serif\" font-size=\"14.00\" text-anchor=\"middle\" x=\"102\" y=\"-524.3\">conv2d_1_input: InputLayer</text>\n",
       "<polyline fill=\"none\" points=\"187,-505 187,-551 \" stroke=\"black\"/>\n",
       "<text font-family=\"Times,serif\" font-size=\"14.00\" text-anchor=\"middle\" x=\"214.5\" y=\"-535.8\">input:</text>\n",
       "<polyline fill=\"none\" points=\"187,-528 242,-528 \" stroke=\"black\"/>\n",
       "<text font-family=\"Times,serif\" font-size=\"14.00\" text-anchor=\"middle\" x=\"214.5\" y=\"-512.8\">output:</text>\n",
       "<polyline fill=\"none\" points=\"242,-505 242,-551 \" stroke=\"black\"/>\n",
       "<text font-family=\"Times,serif\" font-size=\"14.00\" text-anchor=\"middle\" x=\"290.5\" y=\"-535.8\">[(?, 28, 28, 1)]</text>\n",
       "<polyline fill=\"none\" points=\"242,-528 339,-528 \" stroke=\"black\"/>\n",
       "<text font-family=\"Times,serif\" font-size=\"14.00\" text-anchor=\"middle\" x=\"290.5\" y=\"-512.8\">[(?, 28, 28, 1)]</text>\n",
       "</g>\n",
       "<!-- 140701576355736 -->\n",
       "<g class=\"node\" id=\"node2\"><title>140701576355736</title>\n",
       "<polygon fill=\"none\" points=\"42,-421 42,-467 314,-467 314,-421 42,-421\" stroke=\"black\"/>\n",
       "<text font-family=\"Times,serif\" font-size=\"14.00\" text-anchor=\"middle\" x=\"103\" y=\"-440.3\">conv2d_1: Conv2D</text>\n",
       "<polyline fill=\"none\" points=\"164,-421 164,-467 \" stroke=\"black\"/>\n",
       "<text font-family=\"Times,serif\" font-size=\"14.00\" text-anchor=\"middle\" x=\"191.5\" y=\"-451.8\">input:</text>\n",
       "<polyline fill=\"none\" points=\"164,-444 219,-444 \" stroke=\"black\"/>\n",
       "<text font-family=\"Times,serif\" font-size=\"14.00\" text-anchor=\"middle\" x=\"191.5\" y=\"-428.8\">output:</text>\n",
       "<polyline fill=\"none\" points=\"219,-421 219,-467 \" stroke=\"black\"/>\n",
       "<text font-family=\"Times,serif\" font-size=\"14.00\" text-anchor=\"middle\" x=\"266.5\" y=\"-451.8\">(?, 28, 28, 1)</text>\n",
       "<polyline fill=\"none\" points=\"219,-444 314,-444 \" stroke=\"black\"/>\n",
       "<text font-family=\"Times,serif\" font-size=\"14.00\" text-anchor=\"middle\" x=\"266.5\" y=\"-428.8\">(?, 24, 24, 16)</text>\n",
       "</g>\n",
       "<!-- 140702130136680&#45;&gt;140701576355736 -->\n",
       "<g class=\"edge\" id=\"edge1\"><title>140702130136680-&gt;140701576355736</title>\n",
       "<path d=\"M178,-504.593C178,-496.118 178,-486.297 178,-477.104\" fill=\"none\" stroke=\"black\"/>\n",
       "<polygon fill=\"black\" points=\"181.5,-477.096 178,-467.096 174.5,-477.096 181.5,-477.096\" stroke=\"black\"/>\n",
       "</g>\n",
       "<!-- 140702130135616 -->\n",
       "<g class=\"node\" id=\"node3\"><title>140702130135616</title>\n",
       "<polygon fill=\"none\" points=\"-0.5,-337 -0.5,-383 356.5,-383 356.5,-337 -0.5,-337\" stroke=\"black\"/>\n",
       "<text font-family=\"Times,serif\" font-size=\"14.00\" text-anchor=\"middle\" x=\"103\" y=\"-356.3\">max_pooling2d_1: MaxPooling2D</text>\n",
       "<polyline fill=\"none\" points=\"206.5,-337 206.5,-383 \" stroke=\"black\"/>\n",
       "<text font-family=\"Times,serif\" font-size=\"14.00\" text-anchor=\"middle\" x=\"234\" y=\"-367.8\">input:</text>\n",
       "<polyline fill=\"none\" points=\"206.5,-360 261.5,-360 \" stroke=\"black\"/>\n",
       "<text font-family=\"Times,serif\" font-size=\"14.00\" text-anchor=\"middle\" x=\"234\" y=\"-344.8\">output:</text>\n",
       "<polyline fill=\"none\" points=\"261.5,-337 261.5,-383 \" stroke=\"black\"/>\n",
       "<text font-family=\"Times,serif\" font-size=\"14.00\" text-anchor=\"middle\" x=\"309\" y=\"-367.8\">(?, 24, 24, 16)</text>\n",
       "<polyline fill=\"none\" points=\"261.5,-360 356.5,-360 \" stroke=\"black\"/>\n",
       "<text font-family=\"Times,serif\" font-size=\"14.00\" text-anchor=\"middle\" x=\"309\" y=\"-344.8\">(?, 12, 12, 16)</text>\n",
       "</g>\n",
       "<!-- 140701576355736&#45;&gt;140702130135616 -->\n",
       "<g class=\"edge\" id=\"edge2\"><title>140701576355736-&gt;140702130135616</title>\n",
       "<path d=\"M178,-420.593C178,-412.118 178,-402.297 178,-393.104\" fill=\"none\" stroke=\"black\"/>\n",
       "<polygon fill=\"black\" points=\"181.5,-393.096 178,-383.096 174.5,-393.096 181.5,-393.096\" stroke=\"black\"/>\n",
       "</g>\n",
       "<!-- 140702130135448 -->\n",
       "<g class=\"node\" id=\"node4\"><title>140702130135448</title>\n",
       "<polygon fill=\"none\" points=\"42,-253 42,-299 314,-299 314,-253 42,-253\" stroke=\"black\"/>\n",
       "<text font-family=\"Times,serif\" font-size=\"14.00\" text-anchor=\"middle\" x=\"103\" y=\"-272.3\">conv2d_2: Conv2D</text>\n",
       "<polyline fill=\"none\" points=\"164,-253 164,-299 \" stroke=\"black\"/>\n",
       "<text font-family=\"Times,serif\" font-size=\"14.00\" text-anchor=\"middle\" x=\"191.5\" y=\"-283.8\">input:</text>\n",
       "<polyline fill=\"none\" points=\"164,-276 219,-276 \" stroke=\"black\"/>\n",
       "<text font-family=\"Times,serif\" font-size=\"14.00\" text-anchor=\"middle\" x=\"191.5\" y=\"-260.8\">output:</text>\n",
       "<polyline fill=\"none\" points=\"219,-253 219,-299 \" stroke=\"black\"/>\n",
       "<text font-family=\"Times,serif\" font-size=\"14.00\" text-anchor=\"middle\" x=\"266.5\" y=\"-283.8\">(?, 12, 12, 16)</text>\n",
       "<polyline fill=\"none\" points=\"219,-276 314,-276 \" stroke=\"black\"/>\n",
       "<text font-family=\"Times,serif\" font-size=\"14.00\" text-anchor=\"middle\" x=\"266.5\" y=\"-260.8\">(?, 8, 8, 64)</text>\n",
       "</g>\n",
       "<!-- 140702130135616&#45;&gt;140702130135448 -->\n",
       "<g class=\"edge\" id=\"edge3\"><title>140702130135616-&gt;140702130135448</title>\n",
       "<path d=\"M178,-336.593C178,-328.118 178,-318.297 178,-309.104\" fill=\"none\" stroke=\"black\"/>\n",
       "<polygon fill=\"black\" points=\"181.5,-309.096 178,-299.096 174.5,-309.096 181.5,-309.096\" stroke=\"black\"/>\n",
       "</g>\n",
       "<!-- 140702130142400 -->\n",
       "<g class=\"node\" id=\"node5\"><title>140702130142400</title>\n",
       "<polygon fill=\"none\" points=\"6.5,-169 6.5,-215 349.5,-215 349.5,-169 6.5,-169\" stroke=\"black\"/>\n",
       "<text font-family=\"Times,serif\" font-size=\"14.00\" text-anchor=\"middle\" x=\"110\" y=\"-188.3\">max_pooling2d_2: MaxPooling2D</text>\n",
       "<polyline fill=\"none\" points=\"213.5,-169 213.5,-215 \" stroke=\"black\"/>\n",
       "<text font-family=\"Times,serif\" font-size=\"14.00\" text-anchor=\"middle\" x=\"241\" y=\"-199.8\">input:</text>\n",
       "<polyline fill=\"none\" points=\"213.5,-192 268.5,-192 \" stroke=\"black\"/>\n",
       "<text font-family=\"Times,serif\" font-size=\"14.00\" text-anchor=\"middle\" x=\"241\" y=\"-176.8\">output:</text>\n",
       "<polyline fill=\"none\" points=\"268.5,-169 268.5,-215 \" stroke=\"black\"/>\n",
       "<text font-family=\"Times,serif\" font-size=\"14.00\" text-anchor=\"middle\" x=\"309\" y=\"-199.8\">(?, 8, 8, 64)</text>\n",
       "<polyline fill=\"none\" points=\"268.5,-192 349.5,-192 \" stroke=\"black\"/>\n",
       "<text font-family=\"Times,serif\" font-size=\"14.00\" text-anchor=\"middle\" x=\"309\" y=\"-176.8\">(?, 4, 4, 64)</text>\n",
       "</g>\n",
       "<!-- 140702130135448&#45;&gt;140702130142400 -->\n",
       "<g class=\"edge\" id=\"edge4\"><title>140702130135448-&gt;140702130142400</title>\n",
       "<path d=\"M178,-252.593C178,-244.118 178,-234.297 178,-225.104\" fill=\"none\" stroke=\"black\"/>\n",
       "<polygon fill=\"black\" points=\"181.5,-225.096 178,-215.096 174.5,-225.096 181.5,-225.096\" stroke=\"black\"/>\n",
       "</g>\n",
       "<!-- 140702130164400 -->\n",
       "<g class=\"node\" id=\"node6\"><title>140702130164400</title>\n",
       "<polygon fill=\"none\" points=\"62.5,-85 62.5,-131 293.5,-131 293.5,-85 62.5,-85\" stroke=\"black\"/>\n",
       "<text font-family=\"Times,serif\" font-size=\"14.00\" text-anchor=\"middle\" x=\"110\" y=\"-104.3\">flatten: Flatten</text>\n",
       "<polyline fill=\"none\" points=\"157.5,-85 157.5,-131 \" stroke=\"black\"/>\n",
       "<text font-family=\"Times,serif\" font-size=\"14.00\" text-anchor=\"middle\" x=\"185\" y=\"-115.8\">input:</text>\n",
       "<polyline fill=\"none\" points=\"157.5,-108 212.5,-108 \" stroke=\"black\"/>\n",
       "<text font-family=\"Times,serif\" font-size=\"14.00\" text-anchor=\"middle\" x=\"185\" y=\"-92.8\">output:</text>\n",
       "<polyline fill=\"none\" points=\"212.5,-85 212.5,-131 \" stroke=\"black\"/>\n",
       "<text font-family=\"Times,serif\" font-size=\"14.00\" text-anchor=\"middle\" x=\"253\" y=\"-115.8\">(?, 4, 4, 64)</text>\n",
       "<polyline fill=\"none\" points=\"212.5,-108 293.5,-108 \" stroke=\"black\"/>\n",
       "<text font-family=\"Times,serif\" font-size=\"14.00\" text-anchor=\"middle\" x=\"253\" y=\"-92.8\">(?, 1024)</text>\n",
       "</g>\n",
       "<!-- 140702130142400&#45;&gt;140702130164400 -->\n",
       "<g class=\"edge\" id=\"edge5\"><title>140702130142400-&gt;140702130164400</title>\n",
       "<path d=\"M178,-168.593C178,-160.118 178,-150.297 178,-141.104\" fill=\"none\" stroke=\"black\"/>\n",
       "<polygon fill=\"black\" points=\"181.5,-141.096 178,-131.096 174.5,-141.096 181.5,-141.096\" stroke=\"black\"/>\n",
       "</g>\n",
       "<!-- 140702130164792 -->\n",
       "<g class=\"node\" id=\"node7\"><title>140702130164792</title>\n",
       "<polygon fill=\"none\" points=\"73,-1 73,-47 283,-47 283,-1 73,-1\" stroke=\"black\"/>\n",
       "<text font-family=\"Times,serif\" font-size=\"14.00\" text-anchor=\"middle\" x=\"117.5\" y=\"-20.3\">dense: Dense</text>\n",
       "<polyline fill=\"none\" points=\"162,-1 162,-47 \" stroke=\"black\"/>\n",
       "<text font-family=\"Times,serif\" font-size=\"14.00\" text-anchor=\"middle\" x=\"189.5\" y=\"-31.8\">input:</text>\n",
       "<polyline fill=\"none\" points=\"162,-24 217,-24 \" stroke=\"black\"/>\n",
       "<text font-family=\"Times,serif\" font-size=\"14.00\" text-anchor=\"middle\" x=\"189.5\" y=\"-8.8\">output:</text>\n",
       "<polyline fill=\"none\" points=\"217,-1 217,-47 \" stroke=\"black\"/>\n",
       "<text font-family=\"Times,serif\" font-size=\"14.00\" text-anchor=\"middle\" x=\"250\" y=\"-31.8\">(?, 1024)</text>\n",
       "<polyline fill=\"none\" points=\"217,-24 283,-24 \" stroke=\"black\"/>\n",
       "<text font-family=\"Times,serif\" font-size=\"14.00\" text-anchor=\"middle\" x=\"250\" y=\"-8.8\">(?, 10)</text>\n",
       "</g>\n",
       "<!-- 140702130164400&#45;&gt;140702130164792 -->\n",
       "<g class=\"edge\" id=\"edge6\"><title>140702130164400-&gt;140702130164792</title>\n",
       "<path d=\"M178,-84.5931C178,-76.1177 178,-66.2974 178,-57.104\" fill=\"none\" stroke=\"black\"/>\n",
       "<polygon fill=\"black\" points=\"181.5,-57.0958 178,-47.0959 174.5,-57.0959 181.5,-57.0958\" stroke=\"black\"/>\n",
       "</g>\n",
       "</g>\n",
       "</svg>"
      ],
      "text/plain": [
       "<IPython.core.display.SVG object>"
      ]
     },
     "execution_count": 7,
     "metadata": {},
     "output_type": "execute_result"
    }
   ],
   "source": [
    "SVG(model_to_dot(model, dpi=72, show_shapes=True).create(prog='dot', format='svg'))"
   ]
  },
  {
   "cell_type": "markdown",
   "metadata": {},
   "source": [
    "## モデル学習"
   ]
  },
  {
   "cell_type": "code",
   "execution_count": 8,
   "metadata": {
    "collapsed": false,
    "jupyter": {
     "outputs_hidden": false
    }
   },
   "outputs": [
    {
     "name": "stdout",
     "output_type": "stream",
     "text": [
      "Train on 60000 samples, validate on 10000 samples\n",
      "Epoch 1/100\n",
      "60000/60000 [==============================] - 31s 518us/sample - loss: 0.5504 - acc: 0.8056 - val_loss: 0.4163 - val_acc: 0.8500\n",
      "Epoch 2/100\n",
      "60000/60000 [==============================] - 30s 499us/sample - loss: 0.3601 - acc: 0.8731 - val_loss: 0.3603 - val_acc: 0.8707\n",
      "Epoch 3/100\n",
      "60000/60000 [==============================] - 30s 500us/sample - loss: 0.3179 - acc: 0.8880 - val_loss: 0.3381 - val_acc: 0.8789\n",
      "Epoch 4/100\n",
      "60000/60000 [==============================] - 30s 500us/sample - loss: 0.2859 - acc: 0.8990 - val_loss: 0.3158 - val_acc: 0.8873\n",
      "Epoch 5/100\n",
      "60000/60000 [==============================] - 30s 499us/sample - loss: 0.2669 - acc: 0.9046 - val_loss: 0.2961 - val_acc: 0.8957\n",
      "Epoch 6/100\n",
      "60000/60000 [==============================] - 30s 502us/sample - loss: 0.2475 - acc: 0.9123 - val_loss: 0.2942 - val_acc: 0.8953\n",
      "Epoch 7/100\n",
      "60000/60000 [==============================] - 30s 503us/sample - loss: 0.2315 - acc: 0.9172 - val_loss: 0.2783 - val_acc: 0.9020\n",
      "Epoch 8/100\n",
      "60000/60000 [==============================] - 30s 503us/sample - loss: 0.2175 - acc: 0.9230 - val_loss: 0.2929 - val_acc: 0.8961\n",
      "Epoch 00008: early stopping\n"
     ]
    }
   ],
   "source": [
    "early_stopping = EarlyStopping(patience=1, verbose=1)\n",
    "history = model.fit(x=x_train, y=y_train, batch_size=128, epochs=100, verbose=1,\n",
    "                    validation_data=(x_test, y_test), callbacks=[early_stopping])"
   ]
  },
  {
   "cell_type": "markdown",
   "metadata": {},
   "source": [
    "## モデル評価"
   ]
  },
  {
   "cell_type": "code",
   "execution_count": 9,
   "metadata": {
    "collapsed": false,
    "jupyter": {
     "outputs_hidden": false
    }
   },
   "outputs": [
    {
     "name": "stdout",
     "output_type": "stream",
     "text": [
      "Test loss: 0.2929254972815514\n",
      "Test accuracy: 0.8961\n"
     ]
    },
    {
     "data": {
      "image/png": "[encoded data removed]",
      "text/plain": [
       "<Figure size 432x288 with 1 Axes>"
      ]
     },
     "metadata": {
      "needs_background": "light"
     },
     "output_type": "display_data"
    },
    {
     "data": {
      "image/png": "[encoded data removed]",
      "text/plain": [
       "<Figure size 432x288 with 1 Axes>"
      ]
     },
     "metadata": {
      "needs_background": "light"
     },
     "output_type": "display_data"
    }
   ],
   "source": [
    "score = model.evaluate(x_test, y_test, verbose=0)\n",
    "print('Test loss:', score[0])\n",
    "print('Test accuracy:', score[1])\n",
    "\n",
    "# Plot training & validation accuracy values\n",
    "plt.plot(history.history['acc'])\n",
    "plt.plot(history.history['val_acc'])\n",
    "plt.title('Model accuracy')\n",
    "plt.ylabel('Accuracy')\n",
    "plt.xlabel('Epoch')\n",
    "plt.legend(['Train', 'Test'], loc='upper left')\n",
    "plt.show()\n",
    "\n",
    "# Plot training & validation loss values\n",
    "plt.plot(history.history['loss'])\n",
    "plt.plot(history.history['val_loss'])\n",
    "plt.title('Model loss')\n",
    "plt.ylabel('Loss')\n",
    "plt.xlabel('Epoch')\n",
    "plt.legend(['Train', 'Test'], loc='upper left')\n",
    "plt.show()"
   ]
  }
 ],
 "metadata": {
  "kernelspec": {
   "display_name": "Python 3",
   "language": "python",
   "name": "python3"
  },
  "language_info": {
   "codemirror_mode": {
    "name": "ipython",
    "version": 3
   },
   "file_extension": ".py",
   "mimetype": "text/x-python",
   "name": "python",
   "nbconvert_exporter": "python",
   "pygments_lexer": "ipython3",
   "version": "3.6.8"
  }
 },
 "nbformat": 4,
 "nbformat_minor": 4
}
