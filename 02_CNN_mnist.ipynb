{
 "cells": [
  {
   "cell_type": "markdown",
   "metadata": {},
   "source": [
    "# Deep Learning入門\n",
    "\n",
    "## Convolutional Neural Network(CNN) のサンプル"
   ]
  },
  {
   "cell_type": "code",
   "execution_count": 7,
   "metadata": {
    "collapsed": false,
    "jupyter": {
     "outputs_hidden": false
    }
   },
   "outputs": [
    {
     "data": {
      "image/png": "[encoded data removed]",
      "text/plain": [
       "<Figure size 648x1080 with 9 Axes>"
      ]
     },
     "metadata": {},
     "output_type": "display_data"
    }
   ],
   "source": [
    "import matplotlib.pyplot as plt\n",
    "import numpy as np\n",
    "from IPython.display import SVG\n",
    "from tensorflow.keras import regularizers\n",
    "from tensorflow.keras.callbacks import EarlyStopping\n",
    "from tensorflow.keras.datasets import mnist\n",
    "from tensorflow.keras.layers import Activation, Dense, Conv2D, MaxPooling2D, Flatten\n",
    "from tensorflow.keras.models import Sequential\n",
    "from tensorflow.keras.optimizers import Adam\n",
    "from tensorflow.keras.utils import model_to_dot, to_categorical\n",
    "\n",
    "%matplotlib inline\n",
    "\n",
    "(x_train, y_train), (x_test, y_test) = mnist.load_data()\n",
    "\n",
    "fig = plt.figure(figsize=(9, 15))\n",
    "fig.subplots_adjust(left=0, right=1, bottom=0,\n",
    "                    top=0.5, hspace=0.05, wspace=0.05)\n",
    "\n",
    "for i in range(9):\n",
    "    ax = fig.add_subplot(1, 9, i + 1, xticks=[], yticks=[])\n",
    "    ax.set_title(str(y_train[i]))\n",
    "    ax.imshow(x_train[i], cmap='gray')"
   ]
  },
  {
   "cell_type": "markdown",
   "metadata": {},
   "source": [
    "## 前処理"
   ]
  },
  {
   "cell_type": "code",
   "execution_count": 8,
   "metadata": {
    "collapsed": false,
    "jupyter": {
     "outputs_hidden": false
    }
   },
   "outputs": [],
   "source": [
    "x_train = x_train.reshape(x_train.shape[0], 28, 28, 1)\n",
    "x_test = x_test.reshape(x_test.shape[0], 28, 28, 1)\n",
    "\n",
    "# 名義尺度の値をone-hot表現へ変換\n",
    "y_train = to_categorical(y_train)\n",
    "y_test = to_categorical(y_test)"
   ]
  },
  {
   "cell_type": "markdown",
   "metadata": {},
   "source": [
    "## モデル作成"
   ]
  },
  {
   "cell_type": "code",
   "execution_count": 9,
   "metadata": {
    "collapsed": false,
    "jupyter": {
     "outputs_hidden": false
    }
   },
   "outputs": [
    {
     "name": "stdout",
     "output_type": "stream",
     "text": [
      "Model: \"sequential_1\"\n",
      "_________________________________________________________________\n",
      "Layer (type)                 Output Shape              Param #   \n",
      "=================================================================\n",
      "conv2d_3 (Conv2D)            (None, 26, 26, 32)        320       \n",
      "_________________________________________________________________\n",
      "max_pooling2d_2 (MaxPooling2 (None, 13, 13, 32)        0         \n",
      "_________________________________________________________________\n",
      "conv2d_4 (Conv2D)            (None, 11, 11, 64)        18496     \n",
      "_________________________________________________________________\n",
      "max_pooling2d_3 (MaxPooling2 (None, 5, 5, 64)          0         \n",
      "_________________________________________________________________\n",
      "conv2d_5 (Conv2D)            (None, 3, 3, 64)          36928     \n",
      "_________________________________________________________________\n",
      "flatten_1 (Flatten)          (None, 576)               0         \n",
      "_________________________________________________________________\n",
      "dense_2 (Dense)              (None, 64)                36928     \n",
      "_________________________________________________________________\n",
      "dense_3 (Dense)              (None, 10)                650       \n",
      "=================================================================\n",
      "Total params: 93,322\n",
      "Trainable params: 93,322\n",
      "Non-trainable params: 0\n",
      "_________________________________________________________________\n"
     ]
    }
   ],
   "source": [
    "# Sequential: ネットワークを1列に積み上げているシンプルな方法\n",
    "model = Sequential()\n",
    "\n",
    "model.add(Conv2D(32, (3, 3), activation='relu', input_shape=(28, 28, 1)))\n",
    "model.add(MaxPooling2D((2, 2)))\n",
    "\n",
    "model.add(Conv2D(64, (3, 3), activation='relu'))\n",
    "model.add(MaxPooling2D((2, 2)))\n",
    "\n",
    "model.add(Conv2D(64, (3, 3), activation='relu'))\n",
    "model.add(Flatten())\n",
    "\n",
    "model.add(Dense(64, activation='relu'))\n",
    "model.add(Dense(10, activation='softmax'))\n",
    "\n",
    "model.compile(\n",
    "    loss='categorical_crossentropy',\n",
    "    # optimizer='sgd',\n",
    "    # 最適化手法として Adam を使用している。\n",
    "    optimizer=Adam(),\n",
    "    metrics=['acc']\n",
    ")\n",
    "\n",
    "model.summary()"
   ]
  },
  {
   "cell_type": "markdown",
   "metadata": {},
   "source": [
    "## モデル可視化"
   ]
  },
  {
   "cell_type": "code",
   "execution_count": 10,
   "metadata": {
    "collapsed": false,
    "jupyter": {
     "outputs_hidden": false
    }
   },
   "outputs": [
    {
     "data": {
      "image/svg+xml": [
       "<svg height=\"638pt\" viewBox=\"0.00 0.00 214.00 638.00\" width=\"214pt\" xmlns=\"http://www.w3.org/2000/svg\" xmlns:xlink=\"http://www.w3.org/1999/xlink\">\n",
       "<g class=\"graph\" id=\"graph0\" transform=\"scale(1 1) rotate(0) translate(4 634)\">\n",
       "<title>G</title>\n",
       "<polygon fill=\"white\" points=\"-4,5 -4,-634 211,-634 211,5 -4,5\" stroke=\"white\"/>\n",
       "<!-- 140625562436776 -->\n",
       "<g class=\"node\" id=\"node1\"><title>140625562436776</title>\n",
       "<polygon fill=\"none\" points=\"18,-593 18,-629 188,-629 188,-593 18,-593\" stroke=\"black\"/>\n",
       "<text font-family=\"Times,serif\" font-size=\"14.00\" text-anchor=\"middle\" x=\"103\" y=\"-607.3\">conv2d_3_input: InputLayer</text>\n",
       "</g>\n",
       "<!-- 140625562349296 -->\n",
       "<g class=\"node\" id=\"node2\"><title>140625562349296</title>\n",
       "<polygon fill=\"none\" points=\"42,-519 42,-555 164,-555 164,-519 42,-519\" stroke=\"black\"/>\n",
       "<text font-family=\"Times,serif\" font-size=\"14.00\" text-anchor=\"middle\" x=\"103\" y=\"-533.3\">conv2d_3: Conv2D</text>\n",
       "</g>\n",
       "<!-- 140625562436776&#45;&gt;140625562349296 -->\n",
       "<g class=\"edge\" id=\"edge1\"><title>140625562436776-&gt;140625562349296</title>\n",
       "<path d=\"M103,-592.937C103,-584.807 103,-574.876 103,-565.705\" fill=\"none\" stroke=\"black\"/>\n",
       "<polygon fill=\"black\" points=\"106.5,-565.441 103,-555.441 99.5001,-565.441 106.5,-565.441\" stroke=\"black\"/>\n",
       "</g>\n",
       "<!-- 140625562435656 -->\n",
       "<g class=\"node\" id=\"node3\"><title>140625562435656</title>\n",
       "<polygon fill=\"none\" points=\"-0.5,-445 -0.5,-481 206.5,-481 206.5,-445 -0.5,-445\" stroke=\"black\"/>\n",
       "<text font-family=\"Times,serif\" font-size=\"14.00\" text-anchor=\"middle\" x=\"103\" y=\"-459.3\">max_pooling2d_2: MaxPooling2D</text>\n",
       "</g>\n",
       "<!-- 140625562349296&#45;&gt;140625562435656 -->\n",
       "<g class=\"edge\" id=\"edge2\"><title>140625562349296-&gt;140625562435656</title>\n",
       "<path d=\"M103,-518.937C103,-510.807 103,-500.876 103,-491.705\" fill=\"none\" stroke=\"black\"/>\n",
       "<polygon fill=\"black\" points=\"106.5,-491.441 103,-481.441 99.5001,-491.441 106.5,-491.441\" stroke=\"black\"/>\n",
       "</g>\n",
       "<!-- 140625562438344 -->\n",
       "<g class=\"node\" id=\"node4\"><title>140625562438344</title>\n",
       "<polygon fill=\"none\" points=\"42,-371 42,-407 164,-407 164,-371 42,-371\" stroke=\"black\"/>\n",
       "<text font-family=\"Times,serif\" font-size=\"14.00\" text-anchor=\"middle\" x=\"103\" y=\"-385.3\">conv2d_4: Conv2D</text>\n",
       "</g>\n",
       "<!-- 140625562435656&#45;&gt;140625562438344 -->\n",
       "<g class=\"edge\" id=\"edge3\"><title>140625562435656-&gt;140625562438344</title>\n",
       "<path d=\"M103,-444.937C103,-436.807 103,-426.876 103,-417.705\" fill=\"none\" stroke=\"black\"/>\n",
       "<polygon fill=\"black\" points=\"106.5,-417.441 103,-407.441 99.5001,-417.441 106.5,-417.441\" stroke=\"black\"/>\n",
       "</g>\n",
       "<!-- 140625562475264 -->\n",
       "<g class=\"node\" id=\"node5\"><title>140625562475264</title>\n",
       "<polygon fill=\"none\" points=\"-0.5,-297 -0.5,-333 206.5,-333 206.5,-297 -0.5,-297\" stroke=\"black\"/>\n",
       "<text font-family=\"Times,serif\" font-size=\"14.00\" text-anchor=\"middle\" x=\"103\" y=\"-311.3\">max_pooling2d_3: MaxPooling2D</text>\n",
       "</g>\n",
       "<!-- 140625562438344&#45;&gt;140625562475264 -->\n",
       "<g class=\"edge\" id=\"edge4\"><title>140625562438344-&gt;140625562475264</title>\n",
       "<path d=\"M103,-370.937C103,-362.807 103,-352.876 103,-343.705\" fill=\"none\" stroke=\"black\"/>\n",
       "<polygon fill=\"black\" points=\"106.5,-343.441 103,-333.441 99.5001,-343.441 106.5,-343.441\" stroke=\"black\"/>\n",
       "</g>\n",
       "<!-- 140625562034528 -->\n",
       "<g class=\"node\" id=\"node6\"><title>140625562034528</title>\n",
       "<polygon fill=\"none\" points=\"42,-223 42,-259 164,-259 164,-223 42,-223\" stroke=\"black\"/>\n",
       "<text font-family=\"Times,serif\" font-size=\"14.00\" text-anchor=\"middle\" x=\"103\" y=\"-237.3\">conv2d_5: Conv2D</text>\n",
       "</g>\n",
       "<!-- 140625562475264&#45;&gt;140625562034528 -->\n",
       "<g class=\"edge\" id=\"edge5\"><title>140625562475264-&gt;140625562034528</title>\n",
       "<path d=\"M103,-296.937C103,-288.807 103,-278.876 103,-269.705\" fill=\"none\" stroke=\"black\"/>\n",
       "<polygon fill=\"black\" points=\"106.5,-269.441 103,-259.441 99.5001,-269.441 106.5,-269.441\" stroke=\"black\"/>\n",
       "</g>\n",
       "<!-- 140625562034920 -->\n",
       "<g class=\"node\" id=\"node7\"><title>140625562034920</title>\n",
       "<polygon fill=\"none\" points=\"48.5,-149 48.5,-185 157.5,-185 157.5,-149 48.5,-149\" stroke=\"black\"/>\n",
       "<text font-family=\"Times,serif\" font-size=\"14.00\" text-anchor=\"middle\" x=\"103\" y=\"-163.3\">flatten_1: Flatten</text>\n",
       "</g>\n",
       "<!-- 140625562034528&#45;&gt;140625562034920 -->\n",
       "<g class=\"edge\" id=\"edge6\"><title>140625562034528-&gt;140625562034920</title>\n",
       "<path d=\"M103,-222.937C103,-214.807 103,-204.876 103,-195.705\" fill=\"none\" stroke=\"black\"/>\n",
       "<polygon fill=\"black\" points=\"106.5,-195.441 103,-185.441 99.5001,-195.441 106.5,-195.441\" stroke=\"black\"/>\n",
       "</g>\n",
       "<!-- 140625562082048 -->\n",
       "<g class=\"node\" id=\"node8\"><title>140625562082048</title>\n",
       "<polygon fill=\"none\" points=\"52,-75 52,-111 154,-111 154,-75 52,-75\" stroke=\"black\"/>\n",
       "<text font-family=\"Times,serif\" font-size=\"14.00\" text-anchor=\"middle\" x=\"103\" y=\"-89.3\">dense_2: Dense</text>\n",
       "</g>\n",
       "<!-- 140625562034920&#45;&gt;140625562082048 -->\n",
       "<g class=\"edge\" id=\"edge7\"><title>140625562034920-&gt;140625562082048</title>\n",
       "<path d=\"M103,-148.937C103,-140.807 103,-130.876 103,-121.705\" fill=\"none\" stroke=\"black\"/>\n",
       "<polygon fill=\"black\" points=\"106.5,-121.441 103,-111.441 99.5001,-121.441 106.5,-121.441\" stroke=\"black\"/>\n",
       "</g>\n",
       "<!-- 140625562082384 -->\n",
       "<g class=\"node\" id=\"node9\"><title>140625562082384</title>\n",
       "<polygon fill=\"none\" points=\"52,-1 52,-37 154,-37 154,-1 52,-1\" stroke=\"black\"/>\n",
       "<text font-family=\"Times,serif\" font-size=\"14.00\" text-anchor=\"middle\" x=\"103\" y=\"-15.3\">dense_3: Dense</text>\n",
       "</g>\n",
       "<!-- 140625562082048&#45;&gt;140625562082384 -->\n",
       "<g class=\"edge\" id=\"edge8\"><title>140625562082048-&gt;140625562082384</title>\n",
       "<path d=\"M103,-74.937C103,-66.8072 103,-56.8761 103,-47.7047\" fill=\"none\" stroke=\"black\"/>\n",
       "<polygon fill=\"black\" points=\"106.5,-47.4406 103,-37.4407 99.5001,-47.4407 106.5,-47.4406\" stroke=\"black\"/>\n",
       "</g>\n",
       "</g>\n",
       "</svg>"
      ],
      "text/plain": [
       "<IPython.core.display.SVG object>"
      ]
     },
     "execution_count": 10,
     "metadata": {},
     "output_type": "execute_result"
    }
   ],
   "source": [
    "SVG(model_to_dot(model, dpi=72).create(prog='dot', format='svg'))"
   ]
  },
  {
   "cell_type": "markdown",
   "metadata": {},
   "source": [
    "## モデル学習"
   ]
  },
  {
   "cell_type": "code",
   "execution_count": 11,
   "metadata": {
    "collapsed": false,
    "jupyter": {
     "outputs_hidden": false
    }
   },
   "outputs": [
    {
     "name": "stdout",
     "output_type": "stream",
     "text": [
      "Train on 60000 samples, validate on 10000 samples\n",
      "Epoch 1/20\n",
      "60000/60000 [==============================] - 45s 748us/sample - loss: 0.4561 - acc: 0.9001 - val_loss: 0.0946 - val_acc: 0.9727\n",
      "Epoch 2/20\n",
      "60000/60000 [==============================] - 78s 1ms/sample - loss: 0.0802 - acc: 0.9753 - val_loss: 0.0649 - val_acc: 0.9805\n",
      "Epoch 3/20\n",
      "60000/60000 [==============================] - 79s 1ms/sample - loss: 0.0525 - acc: 0.9834 - val_loss: 0.0634 - val_acc: 0.9817\n",
      "Epoch 4/20\n",
      "60000/60000 [==============================] - 40s 670us/sample - loss: 0.0402 - acc: 0.9874 - val_loss: 0.0544 - val_acc: 0.9855\n",
      "Epoch 5/20\n",
      "60000/60000 [==============================] - 44s 741us/sample - loss: 0.0316 - acc: 0.9892 - val_loss: 0.0461 - val_acc: 0.9855\n",
      "Epoch 6/20\n",
      "60000/60000 [==============================] - 75s 1ms/sample - loss: 0.0254 - acc: 0.9920 - val_loss: 0.0577 - val_acc: 0.9841\n",
      "Epoch 00006: early stopping\n"
     ]
    }
   ],
   "source": [
    "history = model.fit(\n",
    "    x_train, y_train,\n",
    "    batch_size=200, epochs=20, verbose=1,\n",
    "    validation_data=(x_test, y_test),\n",
    "    # 早期終了: 検証データの誤差が大きくなってきた（或いは評価関数値が下がってきた）ところで学習をストップさせる\n",
    "    callbacks=[EarlyStopping(patience=0, verbose=1)]\n",
    ")"
   ]
  },
  {
   "cell_type": "markdown",
   "metadata": {},
   "source": [
    "## モデル評価"
   ]
  },
  {
   "cell_type": "code",
   "execution_count": 12,
   "metadata": {
    "collapsed": false,
    "jupyter": {
     "outputs_hidden": false
    }
   },
   "outputs": [
    {
     "name": "stdout",
     "output_type": "stream",
     "text": [
      "Test loss: 0.05767679680831497\n",
      "Test accuracy: 0.9841\n"
     ]
    },
    {
     "data": {
      "image/png": "[encoded data removed]",
      "text/plain": [
       "<Figure size 432x288 with 1 Axes>"
      ]
     },
     "metadata": {
      "needs_background": "light"
     },
     "output_type": "display_data"
    },
    {
     "data": {
      "image/png": "[encoded data removed]",
      "text/plain": [
       "<Figure size 432x288 with 1 Axes>"
      ]
     },
     "metadata": {
      "needs_background": "light"
     },
     "output_type": "display_data"
    }
   ],
   "source": [
    "score = model.evaluate(x_test, y_test, verbose=0)\n",
    "print('Test loss:', score[0])\n",
    "print('Test accuracy:', score[1])\n",
    "\n",
    "# Plot training & validation accuracy values\n",
    "plt.plot(history.history['acc'])\n",
    "plt.plot(history.history['val_acc'])\n",
    "plt.title('Model accuracy')\n",
    "plt.ylabel('Accuracy')\n",
    "plt.xlabel('Epoch')\n",
    "plt.legend(['Train', 'Test'], loc='upper left')\n",
    "plt.show()\n",
    "\n",
    "# Plot training & validation loss values\n",
    "plt.plot(history.history['loss'])\n",
    "plt.plot(history.history['val_loss'])\n",
    "plt.title('Model loss')\n",
    "plt.ylabel('Loss')\n",
    "plt.xlabel('Epoch')\n",
    "plt.legend(['Train', 'Test'], loc='upper left')\n",
    "plt.show()"
   ]
  }
 ],
 "metadata": {
  "kernelspec": {
   "display_name": "Python 3",
   "language": "python",
   "name": "python3"
  },
  "language_info": {
   "codemirror_mode": {
    "name": "ipython",
    "version": 3
   },
   "file_extension": ".py",
   "mimetype": "text/x-python",
   "name": "python",
   "nbconvert_exporter": "python",
   "pygments_lexer": "ipython3",
   "version": "3.6.8"
  }
 },
 "nbformat": 4,
 "nbformat_minor": 4
}
