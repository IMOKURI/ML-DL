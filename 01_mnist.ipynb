{
 "cells": [
  {
   "cell_type": "markdown",
   "metadata": {},
   "source": [
    "# Deep Learning入門\n",
    "\n",
    "## テストデータ"
   ]
  },
  {
   "cell_type": "code",
   "execution_count": 1,
   "metadata": {
    "collapsed": false,
    "jupyter": {
     "outputs_hidden": false
    }
   },
   "outputs": [
    {
     "data": {
      "image/png": "[encoded data removed]",
      "text/plain": [
       "<Figure size 648x1080 with 9 Axes>"
      ]
     },
     "metadata": {},
     "output_type": "display_data"
    }
   ],
   "source": [
    "import matplotlib.pyplot as plt\n",
    "import numpy as np\n",
    "from IPython.display import SVG\n",
    "from tensorflow.keras import regularizers\n",
    "from tensorflow.keras.callbacks import EarlyStopping\n",
    "from tensorflow.keras.datasets import mnist\n",
    "from tensorflow.keras.layers import Activation, Dense, Dropout\n",
    "from tensorflow.keras.models import Sequential\n",
    "from tensorflow.keras.optimizers import Adam\n",
    "from tensorflow.keras.utils import model_to_dot, to_categorical\n",
    "\n",
    "%matplotlib inline\n",
    "\n",
    "(x_train, y_train), (x_test, y_test) = mnist.load_data()\n",
    "\n",
    "fig = plt.figure(figsize=(9, 15))\n",
    "fig.subplots_adjust(left=0, right=1, bottom=0,\n",
    "                    top=0.5, hspace=0.05, wspace=0.05)\n",
    "\n",
    "for i in range(9):\n",
    "    ax = fig.add_subplot(1, 9, i + 1, xticks=[], yticks=[])\n",
    "    ax.set_title(str(y_train[i]))\n",
    "    ax.imshow(x_train[i], cmap='gray')"
   ]
  },
  {
   "cell_type": "markdown",
   "metadata": {},
   "source": [
    "## 前処理"
   ]
  },
  {
   "cell_type": "code",
   "execution_count": 2,
   "metadata": {
    "collapsed": false,
    "jupyter": {
     "outputs_hidden": false
    }
   },
   "outputs": [],
   "source": [
    "# 入力画像を行列(28x28)からベクトル(長さ784)に変換\n",
    "x_train = x_train.reshape(-1, 784)\n",
    "x_test = x_test.reshape(-1, 784)\n",
    "\n",
    "# 名義尺度の値をone-hot表現へ変換\n",
    "y_train = to_categorical(y_train)\n",
    "y_test = to_categorical(y_test)"
   ]
  },
  {
   "cell_type": "markdown",
   "metadata": {},
   "source": [
    "## モデル作成"
   ]
  },
  {
   "cell_type": "code",
   "execution_count": 3,
   "metadata": {
    "collapsed": false,
    "jupyter": {
     "outputs_hidden": false
    }
   },
   "outputs": [
    {
     "name": "stdout",
     "output_type": "stream",
     "text": [
      "Model: \"sequential\"\n",
      "_________________________________________________________________\n",
      "Layer (type)                 Output Shape              Param #   \n",
      "=================================================================\n",
      "dense (Dense)                (None, 256)               200960    \n",
      "_________________________________________________________________\n",
      "activation (Activation)      (None, 256)               0         \n",
      "_________________________________________________________________\n",
      "dense_1 (Dense)              (None, 256)               65792     \n",
      "_________________________________________________________________\n",
      "dropout (Dropout)            (None, 256)               0         \n",
      "_________________________________________________________________\n",
      "dense_2 (Dense)              (None, 256)               65792     \n",
      "_________________________________________________________________\n",
      "dropout_1 (Dropout)          (None, 256)               0         \n",
      "_________________________________________________________________\n",
      "dense_3 (Dense)              (None, 256)               65792     \n",
      "_________________________________________________________________\n",
      "dense_4 (Dense)              (None, 256)               65792     \n",
      "_________________________________________________________________\n",
      "dense_5 (Dense)              (None, 100)               25700     \n",
      "_________________________________________________________________\n",
      "dense_6 (Dense)              (None, 10)                1010      \n",
      "_________________________________________________________________\n",
      "activation_1 (Activation)    (None, 10)                0         \n",
      "=================================================================\n",
      "Total params: 490,838\n",
      "Trainable params: 490,838\n",
      "Non-trainable params: 0\n",
      "_________________________________________________________________\n"
     ]
    }
   ],
   "source": [
    "model = Sequential()\n",
    "\n",
    "# 最初のlayerはinput_shapeを指定して、入力するデータの次元を与える必要がある\n",
    "# Dense: 一般的な全結合層を表すレイヤー\n",
    "# 初期化: Heの初期化法は活性化関数がReLUであるときに適している\n",
    "model.add(Dense(units=256, input_shape=(784,),\n",
    "                kernel_initializer='he_uniform'))\n",
    "# Activation: 活性化関数として relu を選択\n",
    "model.add(Activation('relu'))\n",
    "\n",
    "# 同時に指定も可能\n",
    "model.add(Dense(256, activation='relu'))\n",
    "\n",
    "# ドロップアウト: 近似的にアンサンブル法を実現するもの\n",
    "# ドロップアウトは入力の一部をランダムに0にして出力するlayerの一種。\n",
    "# 訓練データセットから部分訓練データセットを大量に作成し、\n",
    "# 各モデルの予測結果を平均する手法をアンサンブルというが、\n",
    "# とてつもない計算量を要する\n",
    "model.add(Dropout(0.2))\n",
    "\n",
    "model.add(Dense(256, activation='relu'))\n",
    "model.add(Dropout(0.2))\n",
    "\n",
    "# 正規化: L2正則化では、全パラメータの2乗和を正則化項として損失関数に加えます。\n",
    "# L2正則化では、パラメータを完全に0にすることは少ないものの、\n",
    "# パラメータを滑らかにすることで予測精度のより良いモデルを構築する\n",
    "model.add(Dense(256, activation='relu', kernel_regularizer=regularizers.l2(0.01)))\n",
    "\n",
    "# 正規化: L1正則化では、全パラメータの絶対値の和を正則化項として損失関数に加える。\n",
    "# L1正則化ではL2正則化よりもパラメータが0になりやすいという特徴（スパース性）がある\n",
    "model.add(Dense(256, activation='relu', kernel_regularizer=regularizers.l1(0.01)))\n",
    "\n",
    "# 正規化: L1正則化とL2正則化の組み合わせのElasticNet\n",
    "model.add(Dense(100, activation='relu',\n",
    "                kernel_regularizer=regularizers.l1_l2(l1=0.01, l2=0.01)))\n",
    "\n",
    "model.add(Dense(units=10))\n",
    "model.add(Activation('softmax'))\n",
    "\n",
    "model.compile(\n",
    "    loss='categorical_crossentropy',\n",
    "    # optimizer='sgd',\n",
    "    optimizer=Adam(),\n",
    "    metrics=['acc']\n",
    ")\n",
    "\n",
    "model.summary()"
   ]
  },
  {
   "cell_type": "markdown",
   "metadata": {},
   "source": [
    "## モデル可視化"
   ]
  },
  {
   "cell_type": "code",
   "execution_count": 4,
   "metadata": {
    "collapsed": false,
    "jupyter": {
     "outputs_hidden": false
    }
   },
   "outputs": [
    {
     "data": {
      "image/svg+xml": [
       "<svg height=\"860pt\" viewBox=\"0.00 0.00 156.00 860.00\" width=\"156pt\" xmlns=\"http://www.w3.org/2000/svg\" xmlns:xlink=\"http://www.w3.org/1999/xlink\">\n",
       "<g class=\"graph\" id=\"graph0\" transform=\"scale(1 1) rotate(0) translate(4 856)\">\n",
       "<title>G</title>\n",
       "<polygon fill=\"white\" points=\"-4,5 -4,-856 153,-856 153,5 -4,5\" stroke=\"white\"/>\n",
       "<!-- 139960235346632 -->\n",
       "<g class=\"node\" id=\"node1\"><title>139960235346632</title>\n",
       "<polygon fill=\"none\" points=\"0,-815 0,-851 148,-851 148,-815 0,-815\" stroke=\"black\"/>\n",
       "<text font-family=\"Times,serif\" font-size=\"14.00\" text-anchor=\"middle\" x=\"74\" y=\"-829.3\">dense_input: InputLayer</text>\n",
       "</g>\n",
       "<!-- 139960235350448 -->\n",
       "<g class=\"node\" id=\"node2\"><title>139960235350448</title>\n",
       "<polygon fill=\"none\" points=\"29.5,-741 29.5,-777 118.5,-777 118.5,-741 29.5,-741\" stroke=\"black\"/>\n",
       "<text font-family=\"Times,serif\" font-size=\"14.00\" text-anchor=\"middle\" x=\"74\" y=\"-755.3\">dense: Dense</text>\n",
       "</g>\n",
       "<!-- 139960235346632&#45;&gt;139960235350448 -->\n",
       "<g class=\"edge\" id=\"edge1\"><title>139960235346632-&gt;139960235350448</title>\n",
       "<path d=\"M74,-814.937C74,-806.807 74,-796.876 74,-787.705\" fill=\"none\" stroke=\"black\"/>\n",
       "<polygon fill=\"black\" points=\"77.5001,-787.441 74,-777.441 70.5001,-787.441 77.5001,-787.441\" stroke=\"black\"/>\n",
       "</g>\n",
       "<!-- 139960235348096 -->\n",
       "<g class=\"node\" id=\"node3\"><title>139960235348096</title>\n",
       "<polygon fill=\"none\" points=\"8.5,-667 8.5,-703 139.5,-703 139.5,-667 8.5,-667\" stroke=\"black\"/>\n",
       "<text font-family=\"Times,serif\" font-size=\"14.00\" text-anchor=\"middle\" x=\"74\" y=\"-681.3\">activation: Activation</text>\n",
       "</g>\n",
       "<!-- 139960235350448&#45;&gt;139960235348096 -->\n",
       "<g class=\"edge\" id=\"edge2\"><title>139960235350448-&gt;139960235348096</title>\n",
       "<path d=\"M74,-740.937C74,-732.807 74,-722.876 74,-713.705\" fill=\"none\" stroke=\"black\"/>\n",
       "<polygon fill=\"black\" points=\"77.5001,-713.441 74,-703.441 70.5001,-713.441 77.5001,-713.441\" stroke=\"black\"/>\n",
       "</g>\n",
       "<!-- 139960236064664 -->\n",
       "<g class=\"node\" id=\"node4\"><title>139960236064664</title>\n",
       "<polygon fill=\"none\" points=\"23,-593 23,-629 125,-629 125,-593 23,-593\" stroke=\"black\"/>\n",
       "<text font-family=\"Times,serif\" font-size=\"14.00\" text-anchor=\"middle\" x=\"74\" y=\"-607.3\">dense_1: Dense</text>\n",
       "</g>\n",
       "<!-- 139960235348096&#45;&gt;139960236064664 -->\n",
       "<g class=\"edge\" id=\"edge3\"><title>139960235348096-&gt;139960236064664</title>\n",
       "<path d=\"M74,-666.937C74,-658.807 74,-648.876 74,-639.705\" fill=\"none\" stroke=\"black\"/>\n",
       "<polygon fill=\"black\" points=\"77.5001,-639.441 74,-629.441 70.5001,-639.441 77.5001,-639.441\" stroke=\"black\"/>\n",
       "</g>\n",
       "<!-- 139960235348320 -->\n",
       "<g class=\"node\" id=\"node5\"><title>139960235348320</title>\n",
       "<polygon fill=\"none\" points=\"18.5,-519 18.5,-555 129.5,-555 129.5,-519 18.5,-519\" stroke=\"black\"/>\n",
       "<text font-family=\"Times,serif\" font-size=\"14.00\" text-anchor=\"middle\" x=\"74\" y=\"-533.3\">dropout: Dropout</text>\n",
       "</g>\n",
       "<!-- 139960236064664&#45;&gt;139960235348320 -->\n",
       "<g class=\"edge\" id=\"edge4\"><title>139960236064664-&gt;139960235348320</title>\n",
       "<path d=\"M74,-592.937C74,-584.807 74,-574.876 74,-565.705\" fill=\"none\" stroke=\"black\"/>\n",
       "<polygon fill=\"black\" points=\"77.5001,-565.441 74,-555.441 70.5001,-565.441 77.5001,-565.441\" stroke=\"black\"/>\n",
       "</g>\n",
       "<!-- 139960241120088 -->\n",
       "<g class=\"node\" id=\"node6\"><title>139960241120088</title>\n",
       "<polygon fill=\"none\" points=\"23,-445 23,-481 125,-481 125,-445 23,-445\" stroke=\"black\"/>\n",
       "<text font-family=\"Times,serif\" font-size=\"14.00\" text-anchor=\"middle\" x=\"74\" y=\"-459.3\">dense_2: Dense</text>\n",
       "</g>\n",
       "<!-- 139960235348320&#45;&gt;139960241120088 -->\n",
       "<g class=\"edge\" id=\"edge5\"><title>139960235348320-&gt;139960241120088</title>\n",
       "<path d=\"M74,-518.937C74,-510.807 74,-500.876 74,-491.705\" fill=\"none\" stroke=\"black\"/>\n",
       "<polygon fill=\"black\" points=\"77.5001,-491.441 74,-481.441 70.5001,-491.441 77.5001,-491.441\" stroke=\"black\"/>\n",
       "</g>\n",
       "<!-- 139960241119808 -->\n",
       "<g class=\"node\" id=\"node7\"><title>139960241119808</title>\n",
       "<polygon fill=\"none\" points=\"11.5,-371 11.5,-407 136.5,-407 136.5,-371 11.5,-371\" stroke=\"black\"/>\n",
       "<text font-family=\"Times,serif\" font-size=\"14.00\" text-anchor=\"middle\" x=\"74\" y=\"-385.3\">dropout_1: Dropout</text>\n",
       "</g>\n",
       "<!-- 139960241120088&#45;&gt;139960241119808 -->\n",
       "<g class=\"edge\" id=\"edge6\"><title>139960241120088-&gt;139960241119808</title>\n",
       "<path d=\"M74,-444.937C74,-436.807 74,-426.876 74,-417.705\" fill=\"none\" stroke=\"black\"/>\n",
       "<polygon fill=\"black\" points=\"77.5001,-417.441 74,-407.441 70.5001,-417.441 77.5001,-417.441\" stroke=\"black\"/>\n",
       "</g>\n",
       "<!-- 139960142517416 -->\n",
       "<g class=\"node\" id=\"node8\"><title>139960142517416</title>\n",
       "<polygon fill=\"none\" points=\"23,-297 23,-333 125,-333 125,-297 23,-297\" stroke=\"black\"/>\n",
       "<text font-family=\"Times,serif\" font-size=\"14.00\" text-anchor=\"middle\" x=\"74\" y=\"-311.3\">dense_3: Dense</text>\n",
       "</g>\n",
       "<!-- 139960241119808&#45;&gt;139960142517416 -->\n",
       "<g class=\"edge\" id=\"edge7\"><title>139960241119808-&gt;139960142517416</title>\n",
       "<path d=\"M74,-370.937C74,-362.807 74,-352.876 74,-343.705\" fill=\"none\" stroke=\"black\"/>\n",
       "<polygon fill=\"black\" points=\"77.5001,-343.441 74,-333.441 70.5001,-343.441 77.5001,-343.441\" stroke=\"black\"/>\n",
       "</g>\n",
       "<!-- 139960142348240 -->\n",
       "<g class=\"node\" id=\"node9\"><title>139960142348240</title>\n",
       "<polygon fill=\"none\" points=\"23,-223 23,-259 125,-259 125,-223 23,-223\" stroke=\"black\"/>\n",
       "<text font-family=\"Times,serif\" font-size=\"14.00\" text-anchor=\"middle\" x=\"74\" y=\"-237.3\">dense_4: Dense</text>\n",
       "</g>\n",
       "<!-- 139960142517416&#45;&gt;139960142348240 -->\n",
       "<g class=\"edge\" id=\"edge8\"><title>139960142517416-&gt;139960142348240</title>\n",
       "<path d=\"M74,-296.937C74,-288.807 74,-278.876 74,-269.705\" fill=\"none\" stroke=\"black\"/>\n",
       "<polygon fill=\"black\" points=\"77.5001,-269.441 74,-259.441 70.5001,-269.441 77.5001,-269.441\" stroke=\"black\"/>\n",
       "</g>\n",
       "<!-- 139960141938528 -->\n",
       "<g class=\"node\" id=\"node10\"><title>139960141938528</title>\n",
       "<polygon fill=\"none\" points=\"23,-149 23,-185 125,-185 125,-149 23,-149\" stroke=\"black\"/>\n",
       "<text font-family=\"Times,serif\" font-size=\"14.00\" text-anchor=\"middle\" x=\"74\" y=\"-163.3\">dense_5: Dense</text>\n",
       "</g>\n",
       "<!-- 139960142348240&#45;&gt;139960141938528 -->\n",
       "<g class=\"edge\" id=\"edge9\"><title>139960142348240-&gt;139960141938528</title>\n",
       "<path d=\"M74,-222.937C74,-214.807 74,-204.876 74,-195.705\" fill=\"none\" stroke=\"black\"/>\n",
       "<polygon fill=\"black\" points=\"77.5001,-195.441 74,-185.441 70.5001,-195.441 77.5001,-195.441\" stroke=\"black\"/>\n",
       "</g>\n",
       "<!-- 139960142518144 -->\n",
       "<g class=\"node\" id=\"node11\"><title>139960142518144</title>\n",
       "<polygon fill=\"none\" points=\"23,-75 23,-111 125,-111 125,-75 23,-75\" stroke=\"black\"/>\n",
       "<text font-family=\"Times,serif\" font-size=\"14.00\" text-anchor=\"middle\" x=\"74\" y=\"-89.3\">dense_6: Dense</text>\n",
       "</g>\n",
       "<!-- 139960141938528&#45;&gt;139960142518144 -->\n",
       "<g class=\"edge\" id=\"edge10\"><title>139960141938528-&gt;139960142518144</title>\n",
       "<path d=\"M74,-148.937C74,-140.807 74,-130.876 74,-121.705\" fill=\"none\" stroke=\"black\"/>\n",
       "<polygon fill=\"black\" points=\"77.5001,-121.441 74,-111.441 70.5001,-121.441 77.5001,-121.441\" stroke=\"black\"/>\n",
       "</g>\n",
       "<!-- 139960142016464 -->\n",
       "<g class=\"node\" id=\"node12\"><title>139960142016464</title>\n",
       "<polygon fill=\"none\" points=\"2,-1 2,-37 146,-37 146,-1 2,-1\" stroke=\"black\"/>\n",
       "<text font-family=\"Times,serif\" font-size=\"14.00\" text-anchor=\"middle\" x=\"74\" y=\"-15.3\">activation_1: Activation</text>\n",
       "</g>\n",
       "<!-- 139960142518144&#45;&gt;139960142016464 -->\n",
       "<g class=\"edge\" id=\"edge11\"><title>139960142518144-&gt;139960142016464</title>\n",
       "<path d=\"M74,-74.937C74,-66.8072 74,-56.8761 74,-47.7047\" fill=\"none\" stroke=\"black\"/>\n",
       "<polygon fill=\"black\" points=\"77.5001,-47.4406 74,-37.4407 70.5001,-47.4407 77.5001,-47.4406\" stroke=\"black\"/>\n",
       "</g>\n",
       "</g>\n",
       "</svg>"
      ],
      "text/plain": [
       "<IPython.core.display.SVG object>"
      ]
     },
     "execution_count": 4,
     "metadata": {},
     "output_type": "execute_result"
    }
   ],
   "source": [
    "SVG(model_to_dot(model, dpi=72).create(prog='dot', format='svg'))"
   ]
  },
  {
   "cell_type": "markdown",
   "metadata": {},
   "source": [
    "## モデル学習"
   ]
  },
  {
   "cell_type": "code",
   "execution_count": 5,
   "metadata": {
    "collapsed": false,
    "jupyter": {
     "outputs_hidden": false
    }
   },
   "outputs": [
    {
     "name": "stdout",
     "output_type": "stream",
     "text": [
      "Train on 60000 samples, validate on 10000 samples\n",
      "Epoch 1/20\n",
      "60000/60000 [==============================] - 5s 81us/sample - loss: 49.8375 - acc: 0.6043 - val_loss: 37.7433 - val_acc: 0.8843\n",
      "Epoch 2/20\n",
      "60000/60000 [==============================] - 3s 57us/sample - loss: 29.7695 - acc: 0.8707 - val_loss: 22.7350 - val_acc: 0.9282\n",
      "Epoch 3/20\n",
      "60000/60000 [==============================] - 3s 57us/sample - loss: 18.5227 - acc: 0.9136 - val_loss: 14.8086 - val_acc: 0.9447\n",
      "Epoch 4/20\n",
      "60000/60000 [==============================] - 3s 56us/sample - loss: 12.3858 - acc: 0.9323 - val_loss: 10.1507 - val_acc: 0.9518\n",
      "Epoch 5/20\n",
      "60000/60000 [==============================] - 3s 57us/sample - loss: 8.6274 - acc: 0.9446 - val_loss: 7.1917 - val_acc: 0.9582\n",
      "Epoch 6/20\n",
      "60000/60000 [==============================] - 3s 56us/sample - loss: 6.1989 - acc: 0.9516 - val_loss: 5.2364 - val_acc: 0.9618\n",
      "Epoch 7/20\n",
      "60000/60000 [==============================] - 3s 56us/sample - loss: 4.5541 - acc: 0.9563 - val_loss: 3.8815 - val_acc: 0.9638\n",
      "Epoch 8/20\n",
      "60000/60000 [==============================] - 3s 56us/sample - loss: 3.4035 - acc: 0.9601 - val_loss: 2.9306 - val_acc: 0.9639\n",
      "Epoch 9/20\n",
      "60000/60000 [==============================] - 3s 56us/sample - loss: 2.5858 - acc: 0.9638 - val_loss: 2.2437 - val_acc: 0.9670\n",
      "Epoch 10/20\n",
      "60000/60000 [==============================] - 3s 56us/sample - loss: 1.9952 - acc: 0.9661 - val_loss: 1.7515 - val_acc: 0.9679\n",
      "Epoch 11/20\n",
      "60000/60000 [==============================] - 3s 56us/sample - loss: 1.5712 - acc: 0.9678 - val_loss: 1.3903 - val_acc: 0.9701\n",
      "Epoch 12/20\n",
      "60000/60000 [==============================] - 3s 56us/sample - loss: 1.2575 - acc: 0.9705 - val_loss: 1.1271 - val_acc: 0.9692\n",
      "Epoch 13/20\n",
      "60000/60000 [==============================] - 3s 56us/sample - loss: 1.0244 - acc: 0.9724 - val_loss: 0.9301 - val_acc: 0.9717\n",
      "Epoch 14/20\n",
      "60000/60000 [==============================] - 3s 57us/sample - loss: 0.8522 - acc: 0.9750 - val_loss: 0.7853 - val_acc: 0.9711\n",
      "Epoch 15/20\n",
      "60000/60000 [==============================] - 3s 56us/sample - loss: 0.7259 - acc: 0.9746 - val_loss: 0.6783 - val_acc: 0.9711\n",
      "Epoch 16/20\n",
      "60000/60000 [==============================] - 3s 56us/sample - loss: 0.6201 - acc: 0.9772 - val_loss: 0.5846 - val_acc: 0.9737\n",
      "Epoch 17/20\n",
      "60000/60000 [==============================] - 3s 56us/sample - loss: 0.5400 - acc: 0.9781 - val_loss: 0.5199 - val_acc: 0.9730\n",
      "Epoch 18/20\n",
      "60000/60000 [==============================] - 3s 56us/sample - loss: 0.4756 - acc: 0.9800 - val_loss: 0.4687 - val_acc: 0.9735\n",
      "Epoch 19/20\n",
      "60000/60000 [==============================] - 3s 56us/sample - loss: 0.4261 - acc: 0.9811 - val_loss: 0.4281 - val_acc: 0.9731\n",
      "Epoch 20/20\n",
      "60000/60000 [==============================] - 3s 56us/sample - loss: 0.3851 - acc: 0.9825 - val_loss: 0.3904 - val_acc: 0.9748\n"
     ]
    }
   ],
   "source": [
    "history = model.fit(\n",
    "    x_train, y_train,\n",
    "    batch_size=1000, epochs=20, verbose=1,\n",
    "    validation_data=(x_test, y_test),\n",
    "    # 早期終了: 検証データの誤差が大きくなってきた（或いは評価関数値が下がってきた）ところで学習をストップさせる\n",
    "    callbacks=[EarlyStopping(patience=0, verbose=1)]\n",
    ")"
   ]
  },
  {
   "cell_type": "markdown",
   "metadata": {},
   "source": [
    "## モデル評価"
   ]
  },
  {
   "cell_type": "code",
   "execution_count": 6,
   "metadata": {
    "collapsed": false,
    "jupyter": {
     "outputs_hidden": false
    }
   },
   "outputs": [
    {
     "name": "stdout",
     "output_type": "stream",
     "text": [
      "Test loss: 0.3904366277217865\n",
      "Test accuracy: 0.9748\n"
     ]
    },
    {
     "data": {
      "image/png": "[encoded data removed]",
      "text/plain": [
       "<Figure size 432x288 with 1 Axes>"
      ]
     },
     "metadata": {
      "needs_background": "light"
     },
     "output_type": "display_data"
    },
    {
     "data": {
      "image/png": "[encoded data removed]",
      "text/plain": [
       "<Figure size 432x288 with 1 Axes>"
      ]
     },
     "metadata": {
      "needs_background": "light"
     },
     "output_type": "display_data"
    }
   ],
   "source": [
    "score = model.evaluate(x_test, y_test, verbose=0)\n",
    "print('Test loss:', score[0])\n",
    "print('Test accuracy:', score[1])\n",
    "\n",
    "# Plot training & validation accuracy values\n",
    "plt.plot(history.history['acc'])\n",
    "plt.plot(history.history['val_acc'])\n",
    "plt.title('Model accuracy')\n",
    "plt.ylabel('Accuracy')\n",
    "plt.xlabel('Epoch')\n",
    "plt.legend(['Train', 'Test'], loc='upper left')\n",
    "plt.show()\n",
    "\n",
    "# Plot training & validation loss values\n",
    "plt.plot(history.history['loss'])\n",
    "plt.plot(history.history['val_loss'])\n",
    "plt.title('Model loss')\n",
    "plt.ylabel('Loss')\n",
    "plt.xlabel('Epoch')\n",
    "plt.legend(['Train', 'Test'], loc='upper left')\n",
    "plt.show()"
   ]
  },
  {
   "cell_type": "markdown",
   "metadata": {},
   "source": [
    "## 活性化関数"
   ]
  },
  {
   "cell_type": "code",
   "execution_count": 7,
   "metadata": {
    "collapsed": false,
    "jupyter": {
     "outputs_hidden": false
    }
   },
   "outputs": [
    {
     "data": {
      "image/png": "[encoded data removed]",
      "text/plain": [
       "<Figure size 432x288 with 1 Axes>"
      ]
     },
     "metadata": {
      "needs_background": "light"
     },
     "output_type": "display_data"
    }
   ],
   "source": [
    "def sigmoid(x):\n",
    "    return 1 / (1 + np.exp(-x))\n",
    "\n",
    "\n",
    "def relu(x):\n",
    "    return np.maximum(0, x)\n",
    "\n",
    "\n",
    "def tanh(x):\n",
    "    return np.tanh(x)\n",
    "\n",
    "\n",
    "fig = plt.figure()\n",
    "x = np.linspace(-10, 10, 1000)\n",
    "\n",
    "ax = fig.add_subplot(111)\n",
    "ax.plot(x, sigmoid(x), label='sigmoid')\n",
    "ax.plot(x, relu(x), label='ReLU')\n",
    "ax.plot(x, tanh(x), label='tanh')\n",
    "\n",
    "plt.legend()\n",
    "plt.xlim(-5, 5)\n",
    "plt.ylim(-1.1, 2)\n",
    "plt.grid(which='major', color='gray', linestyle='-')\n",
    "plt.show()"
   ]
  },
  {
   "cell_type": "markdown",
   "metadata": {},
   "source": [
    "## 活性化関数の微分"
   ]
  },
  {
   "cell_type": "code",
   "execution_count": 8,
   "metadata": {
    "collapsed": false,
    "jupyter": {
     "outputs_hidden": false
    }
   },
   "outputs": [
    {
     "data": {
      "image/png": "[encoded data removed]",
      "text/plain": [
       "<Figure size 432x288 with 1 Axes>"
      ]
     },
     "metadata": {
      "needs_background": "light"
     },
     "output_type": "display_data"
    }
   ],
   "source": [
    "def deriv_sigmoid(x):\n",
    "    return np.exp(x) / (1 + np.exp(x))**2\n",
    "\n",
    "\n",
    "def deriv_tanh(x):\n",
    "    return 1 - np.tanh(x)**2\n",
    "\n",
    "\n",
    "def deriv_relu(x):\n",
    "    return 1 * (x > 0)\n",
    "\n",
    "\n",
    "fig = plt.figure()\n",
    "x = np.linspace(-10, 10, 1000)\n",
    "\n",
    "# sigmoid\n",
    "ax = fig.add_subplot(111)\n",
    "ax.plot(x, deriv_sigmoid(x), label='sigmoid deriv')\n",
    "\n",
    "# tanh\n",
    "ax.plot(x, deriv_tanh(x), label='tanh deriv')\n",
    "\n",
    "# relu\n",
    "ax.plot(x, deriv_relu(x), label='ReLU deriv')\n",
    "\n",
    "plt.legend()\n",
    "plt.xlim(-2, 2)\n",
    "plt.ylim(0, 1.2)\n",
    "plt.show()"
   ]
  }
 ],
 "metadata": {
  "kernelspec": {
   "display_name": "Python 3",
   "language": "python",
   "name": "python3"
  },
  "language_info": {
   "codemirror_mode": {
    "name": "ipython",
    "version": 3
   },
   "file_extension": ".py",
   "mimetype": "text/x-python",
   "name": "python",
   "nbconvert_exporter": "python",
   "pygments_lexer": "ipython3",
   "version": "3.6.8"
  }
 },
 "nbformat": 4,
 "nbformat_minor": 4
}
