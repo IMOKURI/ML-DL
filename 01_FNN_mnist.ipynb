{
 "cells": [
  {
   "cell_type": "markdown",
   "metadata": {},
   "source": [
    "# Deep Learning入門\n",
    "\n",
    "## Feedforward Neural Network(FNN) のサンプル"
   ]
  },
  {
   "cell_type": "code",
   "execution_count": 15,
   "metadata": {
    "collapsed": false,
    "jupyter": {
     "outputs_hidden": false
    }
   },
   "outputs": [
    {
     "data": {
      "image/png": "[encoded data removed]",
      "text/plain": [
       "<Figure size 648x1080 with 9 Axes>"
      ]
     },
     "metadata": {},
     "output_type": "display_data"
    }
   ],
   "source": [
    "import matplotlib.pyplot as plt\n",
    "import numpy as np\n",
    "from IPython.display import SVG\n",
    "from tensorflow.keras import regularizers\n",
    "from tensorflow.keras.callbacks import EarlyStopping\n",
    "from tensorflow.keras.datasets import mnist\n",
    "from tensorflow.keras.layers import Activation, Dense, Dropout\n",
    "from tensorflow.keras.models import Sequential\n",
    "from tensorflow.keras.optimizers import Adam\n",
    "from tensorflow.keras.utils import model_to_dot, to_categorical\n",
    "\n",
    "%matplotlib inline\n",
    "\n",
    "(x_train, y_train), (x_test, y_test) = mnist.load_data()\n",
    "\n",
    "fig = plt.figure(figsize=(9, 15))\n",
    "fig.subplots_adjust(left=0, right=1, bottom=0,\n",
    "                    top=0.5, hspace=0.05, wspace=0.05)\n",
    "\n",
    "for i in range(9):\n",
    "    ax = fig.add_subplot(1, 9, i + 1, xticks=[], yticks=[])\n",
    "    ax.set_title(str(y_train[i]))\n",
    "    ax.imshow(x_train[i], cmap='gray')"
   ]
  },
  {
   "cell_type": "markdown",
   "metadata": {},
   "source": [
    "## 前処理"
   ]
  },
  {
   "cell_type": "code",
   "execution_count": 16,
   "metadata": {
    "collapsed": false,
    "jupyter": {
     "outputs_hidden": false
    }
   },
   "outputs": [],
   "source": [
    "# 入力画像を行列(28x28)からベクトル(長さ784)に変換\n",
    "x_train = x_train.reshape(-1, 784)\n",
    "x_test = x_test.reshape(-1, 784)\n",
    "\n",
    "# 名義尺度の値をone-hot表現へ変換\n",
    "y_train = to_categorical(y_train)\n",
    "y_test = to_categorical(y_test)"
   ]
  },
  {
   "cell_type": "markdown",
   "metadata": {},
   "source": [
    "## モデル作成"
   ]
  },
  {
   "cell_type": "code",
   "execution_count": 17,
   "metadata": {
    "collapsed": false,
    "jupyter": {
     "outputs_hidden": false
    }
   },
   "outputs": [
    {
     "name": "stdout",
     "output_type": "stream",
     "text": [
      "Model: \"sequential_2\"\n",
      "_________________________________________________________________\n",
      "Layer (type)                 Output Shape              Param #   \n",
      "=================================================================\n",
      "dense_11 (Dense)             (None, 256)               200960    \n",
      "_________________________________________________________________\n",
      "activation_4 (Activation)    (None, 256)               0         \n",
      "_________________________________________________________________\n",
      "dense_12 (Dense)             (None, 256)               65792     \n",
      "_________________________________________________________________\n",
      "dense_13 (Dense)             (None, 256)               65792     \n",
      "_________________________________________________________________\n",
      "dense_14 (Dense)             (None, 10)                2570      \n",
      "_________________________________________________________________\n",
      "activation_5 (Activation)    (None, 10)                0         \n",
      "=================================================================\n",
      "Total params: 335,114\n",
      "Trainable params: 335,114\n",
      "Non-trainable params: 0\n",
      "_________________________________________________________________\n"
     ]
    }
   ],
   "source": [
    "# Sequential: ネットワークを1列に積み上げているシンプルな方法\n",
    "model = Sequential()\n",
    "\n",
    "# 最初のlayerはinput_shapeを指定して、入力するデータの次元を与える必要がある\n",
    "# Dense: 一般的な全結合層を表すレイヤー\n",
    "# 初期化: Heの初期化法は活性化関数がReLUであるときに適している\n",
    "model.add(Dense(units=256, input_shape=(784,),\n",
    "                kernel_initializer='he_uniform'))\n",
    "# Activation: 活性化関数として relu を選択\n",
    "model.add(Activation('relu'))\n",
    "\n",
    "# 同時に指定も可能\n",
    "model.add(Dense(256, activation='relu'))\n",
    "\n",
    "# ドロップアウト: 近似的にアンサンブル法を実現するもの\n",
    "# ドロップアウトは入力の一部をランダムに0にして出力するlayerの一種。\n",
    "# 訓練データセットから部分訓練データセットを大量に作成し、\n",
    "# 各モデルの予測結果を平均する手法をアンサンブルというが、\n",
    "# とてつもない計算量を要する\n",
    "# model.add(Dropout(0.2))\n",
    "\n",
    "model.add(Dense(256, activation='relu'))\n",
    "# model.add(Dropout(0.2))\n",
    "\n",
    "# 正規化: L2正則化では、全パラメータの2乗和を正則化項として損失関数に加えます。\n",
    "# L2正則化では、パラメータを完全に0にすることは少ないものの、\n",
    "# パラメータを滑らかにすることで予測精度のより良いモデルを構築する\n",
    "# model.add(Dense(256, activation='relu', kernel_regularizer=regularizers.l2(0.01)))\n",
    "\n",
    "# 正規化: L1正則化では、全パラメータの絶対値の和を正則化項として損失関数に加える。\n",
    "# L1正則化ではL2正則化よりもパラメータが0になりやすいという特徴（スパース性）がある\n",
    "# model.add(Dense(256, activation='relu', kernel_regularizer=regularizers.l1(0.01)))\n",
    "\n",
    "# 正規化: L1正則化とL2正則化の組み合わせのElasticNet\n",
    "# model.add(Dense(100, activation='relu',\n",
    "#                 kernel_regularizer=regularizers.l1_l2(l1=0.01, l2=0.01)))\n",
    "\n",
    "model.add(Dense(units=10))\n",
    "# softmax: 他クラス分類の活性化関数として用いられる\n",
    "model.add(Activation('softmax'))\n",
    "\n",
    "model.compile(\n",
    "    loss='categorical_crossentropy',\n",
    "    # optimizer='sgd',\n",
    "    # 最適化手法として Adam を使用している。\n",
    "    optimizer=Adam(),\n",
    "    metrics=['acc']\n",
    ")\n",
    "\n",
    "model.summary()"
   ]
  },
  {
   "cell_type": "markdown",
   "metadata": {},
   "source": [
    "## モデル可視化"
   ]
  },
  {
   "cell_type": "code",
   "execution_count": 18,
   "metadata": {
    "collapsed": false,
    "jupyter": {
     "outputs_hidden": false
    }
   },
   "outputs": [
    {
     "data": {
      "image/svg+xml": [
       "<svg height=\"490pt\" viewBox=\"0.00 0.00 176.00 490.00\" width=\"176pt\" xmlns=\"http://www.w3.org/2000/svg\" xmlns:xlink=\"http://www.w3.org/1999/xlink\">\n",
       "<g class=\"graph\" id=\"graph0\" transform=\"scale(1 1) rotate(0) translate(4 486)\">\n",
       "<title>G</title>\n",
       "<polygon fill=\"white\" points=\"-4,5 -4,-486 173,-486 173,5 -4,5\" stroke=\"white\"/>\n",
       "<!-- 140181896779256 -->\n",
       "<g class=\"node\" id=\"node1\"><title>140181896779256</title>\n",
       "<polygon fill=\"none\" points=\"0,-445 0,-481 168,-481 168,-445 0,-445\" stroke=\"black\"/>\n",
       "<text font-family=\"Times,serif\" font-size=\"14.00\" text-anchor=\"middle\" x=\"84\" y=\"-459.3\">dense_11_input: InputLayer</text>\n",
       "</g>\n",
       "<!-- 140181896778304 -->\n",
       "<g class=\"node\" id=\"node2\"><title>140181896778304</title>\n",
       "<polygon fill=\"none\" points=\"29.5,-371 29.5,-407 138.5,-407 138.5,-371 29.5,-371\" stroke=\"black\"/>\n",
       "<text font-family=\"Times,serif\" font-size=\"14.00\" text-anchor=\"middle\" x=\"84\" y=\"-385.3\">dense_11: Dense</text>\n",
       "</g>\n",
       "<!-- 140181896779256&#45;&gt;140181896778304 -->\n",
       "<g class=\"edge\" id=\"edge1\"><title>140181896779256-&gt;140181896778304</title>\n",
       "<path d=\"M84,-444.937C84,-436.807 84,-426.876 84,-417.705\" fill=\"none\" stroke=\"black\"/>\n",
       "<polygon fill=\"black\" points=\"87.5001,-417.441 84,-407.441 80.5001,-417.441 87.5001,-417.441\" stroke=\"black\"/>\n",
       "</g>\n",
       "<!-- 140181896778584 -->\n",
       "<g class=\"node\" id=\"node3\"><title>140181896778584</title>\n",
       "<polygon fill=\"none\" points=\"12,-297 12,-333 156,-333 156,-297 12,-297\" stroke=\"black\"/>\n",
       "<text font-family=\"Times,serif\" font-size=\"14.00\" text-anchor=\"middle\" x=\"84\" y=\"-311.3\">activation_4: Activation</text>\n",
       "</g>\n",
       "<!-- 140181896778304&#45;&gt;140181896778584 -->\n",
       "<g class=\"edge\" id=\"edge2\"><title>140181896778304-&gt;140181896778584</title>\n",
       "<path d=\"M84,-370.937C84,-362.807 84,-352.876 84,-343.705\" fill=\"none\" stroke=\"black\"/>\n",
       "<polygon fill=\"black\" points=\"87.5001,-343.441 84,-333.441 80.5001,-343.441 87.5001,-343.441\" stroke=\"black\"/>\n",
       "</g>\n",
       "<!-- 140181896778472 -->\n",
       "<g class=\"node\" id=\"node4\"><title>140181896778472</title>\n",
       "<polygon fill=\"none\" points=\"29.5,-223 29.5,-259 138.5,-259 138.5,-223 29.5,-223\" stroke=\"black\"/>\n",
       "<text font-family=\"Times,serif\" font-size=\"14.00\" text-anchor=\"middle\" x=\"84\" y=\"-237.3\">dense_12: Dense</text>\n",
       "</g>\n",
       "<!-- 140181896778584&#45;&gt;140181896778472 -->\n",
       "<g class=\"edge\" id=\"edge3\"><title>140181896778584-&gt;140181896778472</title>\n",
       "<path d=\"M84,-296.937C84,-288.807 84,-278.876 84,-269.705\" fill=\"none\" stroke=\"black\"/>\n",
       "<polygon fill=\"black\" points=\"87.5001,-269.441 84,-259.441 80.5001,-269.441 87.5001,-269.441\" stroke=\"black\"/>\n",
       "</g>\n",
       "<!-- 140181896778416 -->\n",
       "<g class=\"node\" id=\"node5\"><title>140181896778416</title>\n",
       "<polygon fill=\"none\" points=\"29.5,-149 29.5,-185 138.5,-185 138.5,-149 29.5,-149\" stroke=\"black\"/>\n",
       "<text font-family=\"Times,serif\" font-size=\"14.00\" text-anchor=\"middle\" x=\"84\" y=\"-163.3\">dense_13: Dense</text>\n",
       "</g>\n",
       "<!-- 140181896778472&#45;&gt;140181896778416 -->\n",
       "<g class=\"edge\" id=\"edge4\"><title>140181896778472-&gt;140181896778416</title>\n",
       "<path d=\"M84,-222.937C84,-214.807 84,-204.876 84,-195.705\" fill=\"none\" stroke=\"black\"/>\n",
       "<polygon fill=\"black\" points=\"87.5001,-195.441 84,-185.441 80.5001,-195.441 87.5001,-195.441\" stroke=\"black\"/>\n",
       "</g>\n",
       "<!-- 140181896731504 -->\n",
       "<g class=\"node\" id=\"node6\"><title>140181896731504</title>\n",
       "<polygon fill=\"none\" points=\"29.5,-75 29.5,-111 138.5,-111 138.5,-75 29.5,-75\" stroke=\"black\"/>\n",
       "<text font-family=\"Times,serif\" font-size=\"14.00\" text-anchor=\"middle\" x=\"84\" y=\"-89.3\">dense_14: Dense</text>\n",
       "</g>\n",
       "<!-- 140181896778416&#45;&gt;140181896731504 -->\n",
       "<g class=\"edge\" id=\"edge5\"><title>140181896778416-&gt;140181896731504</title>\n",
       "<path d=\"M84,-148.937C84,-140.807 84,-130.876 84,-121.705\" fill=\"none\" stroke=\"black\"/>\n",
       "<polygon fill=\"black\" points=\"87.5001,-121.441 84,-111.441 80.5001,-121.441 87.5001,-121.441\" stroke=\"black\"/>\n",
       "</g>\n",
       "<!-- 140181595051288 -->\n",
       "<g class=\"node\" id=\"node7\"><title>140181595051288</title>\n",
       "<polygon fill=\"none\" points=\"12,-1 12,-37 156,-37 156,-1 12,-1\" stroke=\"black\"/>\n",
       "<text font-family=\"Times,serif\" font-size=\"14.00\" text-anchor=\"middle\" x=\"84\" y=\"-15.3\">activation_5: Activation</text>\n",
       "</g>\n",
       "<!-- 140181896731504&#45;&gt;140181595051288 -->\n",
       "<g class=\"edge\" id=\"edge6\"><title>140181896731504-&gt;140181595051288</title>\n",
       "<path d=\"M84,-74.937C84,-66.8072 84,-56.8761 84,-47.7047\" fill=\"none\" stroke=\"black\"/>\n",
       "<polygon fill=\"black\" points=\"87.5001,-47.4406 84,-37.4407 80.5001,-47.4407 87.5001,-47.4406\" stroke=\"black\"/>\n",
       "</g>\n",
       "</g>\n",
       "</svg>"
      ],
      "text/plain": [
       "<IPython.core.display.SVG object>"
      ]
     },
     "execution_count": 18,
     "metadata": {},
     "output_type": "execute_result"
    }
   ],
   "source": [
    "SVG(model_to_dot(model, dpi=72).create(prog='dot', format='svg'))"
   ]
  },
  {
   "cell_type": "markdown",
   "metadata": {},
   "source": [
    "## モデル学習"
   ]
  },
  {
   "cell_type": "code",
   "execution_count": 21,
   "metadata": {
    "collapsed": false,
    "jupyter": {
     "outputs_hidden": false
    }
   },
   "outputs": [
    {
     "name": "stdout",
     "output_type": "stream",
     "text": [
      "Train on 60000 samples, validate on 10000 samples\n",
      "Epoch 1/20\n",
      "60000/60000 [==============================] - 3s 55us/sample - loss: 0.0475 - acc: 0.9855 - val_loss: 0.1533 - val_acc: 0.9679\n",
      "Epoch 2/20\n",
      "60000/60000 [==============================] - 3s 49us/sample - loss: 0.0198 - acc: 0.9936 - val_loss: 0.1363 - val_acc: 0.9707\n",
      "Epoch 3/20\n",
      "60000/60000 [==============================] - 3s 49us/sample - loss: 0.0128 - acc: 0.9958 - val_loss: 0.1420 - val_acc: 0.9724\n",
      "Epoch 00003: early stopping\n"
     ]
    }
   ],
   "source": [
    "history = model.fit(\n",
    "    x_train, y_train,\n",
    "    batch_size=200, epochs=20, verbose=1,\n",
    "    validation_data=(x_test, y_test),\n",
    "    # 早期終了: 検証データの誤差が大きくなってきた（或いは評価関数値が下がってきた）ところで学習をストップさせる\n",
    "    callbacks=[EarlyStopping(patience=0, verbose=1)]\n",
    ")"
   ]
  },
  {
   "cell_type": "markdown",
   "metadata": {},
   "source": [
    "## モデル評価"
   ]
  },
  {
   "cell_type": "code",
   "execution_count": 20,
   "metadata": {
    "collapsed": false,
    "jupyter": {
     "outputs_hidden": false
    }
   },
   "outputs": [
    {
     "name": "stdout",
     "output_type": "stream",
     "text": [
      "Test loss: 0.2088049025967266\n",
      "Test accuracy: 0.9528\n"
     ]
    },
    {
     "data": {
      "image/png": "[encoded data removed]",
      "text/plain": [
       "<Figure size 432x288 with 1 Axes>"
      ]
     },
     "metadata": {
      "needs_background": "light"
     },
     "output_type": "display_data"
    },
    {
     "data": {
      "image/png": "[encoded data removed]",
      "text/plain": [
       "<Figure size 432x288 with 1 Axes>"
      ]
     },
     "metadata": {
      "needs_background": "light"
     },
     "output_type": "display_data"
    }
   ],
   "source": [
    "score = model.evaluate(x_test, y_test, verbose=0)\n",
    "print('Test loss:', score[0])\n",
    "print('Test accuracy:', score[1])\n",
    "\n",
    "# Plot training & validation accuracy values\n",
    "plt.plot(history.history['acc'])\n",
    "plt.plot(history.history['val_acc'])\n",
    "plt.title('Model accuracy')\n",
    "plt.ylabel('Accuracy')\n",
    "plt.xlabel('Epoch')\n",
    "plt.legend(['Train', 'Test'], loc='upper left')\n",
    "plt.show()\n",
    "\n",
    "# Plot training & validation loss values\n",
    "plt.plot(history.history['loss'])\n",
    "plt.plot(history.history['val_loss'])\n",
    "plt.title('Model loss')\n",
    "plt.ylabel('Loss')\n",
    "plt.xlabel('Epoch')\n",
    "plt.legend(['Train', 'Test'], loc='upper left')\n",
    "plt.show()"
   ]
  }
 ],
 "metadata": {
  "kernelspec": {
   "display_name": "Python 3",
   "language": "python",
   "name": "python3"
  },
  "language_info": {
   "codemirror_mode": {
    "name": "ipython",
    "version": 3
   },
   "file_extension": ".py",
   "mimetype": "text/x-python",
   "name": "python",
   "nbconvert_exporter": "python",
   "pygments_lexer": "ipython3",
   "version": "3.6.8"
  }
 },
 "nbformat": 4,
 "nbformat_minor": 4
}
