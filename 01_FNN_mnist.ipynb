{
 "cells": [
  {
   "cell_type": "markdown",
   "metadata": {},
   "source": [
    "# Deep Learning入門\n",
    "\n",
    "## Feedforward Neural Network(FNN) のサンプル"
   ]
  },
  {
   "cell_type": "code",
   "execution_count": 1,
   "metadata": {
    "collapsed": false,
    "jupyter": {
     "outputs_hidden": false
    }
   },
   "outputs": [
    {
     "data": {
      "image/png": "[encoded data removed]",
      "text/plain": [
       "<Figure size 648x1080 with 9 Axes>"
      ]
     },
     "metadata": {},
     "output_type": "display_data"
    }
   ],
   "source": [
    "import matplotlib.pyplot as plt\n",
    "import numpy as np\n",
    "from IPython.display import SVG\n",
    "from tensorflow.keras import regularizers\n",
    "from tensorflow.keras.callbacks import EarlyStopping\n",
    "from tensorflow.keras.datasets import mnist\n",
    "from tensorflow.keras.layers import Activation, Dense, Dropout\n",
    "from tensorflow.keras.models import Sequential\n",
    "from tensorflow.keras.optimizers import Adam\n",
    "from tensorflow.keras.utils import model_to_dot, to_categorical\n",
    "\n",
    "%matplotlib inline\n",
    "\n",
    "(x_train, y_train), (x_test, y_test) = mnist.load_data()\n",
    "\n",
    "fig = plt.figure(figsize=(9, 15))\n",
    "fig.subplots_adjust(left=0, right=1, bottom=0,\n",
    "                    top=0.5, hspace=0.05, wspace=0.05)\n",
    "\n",
    "for i in range(9):\n",
    "    ax = fig.add_subplot(1, 9, i + 1, xticks=[], yticks=[])\n",
    "    ax.set_title(str(y_train[i]))\n",
    "    ax.imshow(x_train[i], cmap='gray')"
   ]
  },
  {
   "cell_type": "markdown",
   "metadata": {},
   "source": [
    "## 前処理"
   ]
  },
  {
   "cell_type": "code",
   "execution_count": 2,
   "metadata": {
    "collapsed": false,
    "jupyter": {
     "outputs_hidden": false
    }
   },
   "outputs": [],
   "source": [
    "# 入力画像を行列(28x28)からベクトル(長さ784)に変換\n",
    "x_train = x_train.reshape(-1, 784)\n",
    "x_test = x_test.reshape(-1, 784)\n",
    "\n",
    "# 名義尺度の値をone-hot表現へ変換\n",
    "y_train = to_categorical(y_train)\n",
    "y_test = to_categorical(y_test)"
   ]
  },
  {
   "cell_type": "markdown",
   "metadata": {},
   "source": [
    "## モデル作成"
   ]
  },
  {
   "cell_type": "code",
   "execution_count": 3,
   "metadata": {
    "collapsed": false,
    "jupyter": {
     "outputs_hidden": false
    }
   },
   "outputs": [
    {
     "name": "stdout",
     "output_type": "stream",
     "text": [
      "Model: \"sequential\"\n",
      "_________________________________________________________________\n",
      "Layer (type)                 Output Shape              Param #   \n",
      "=================================================================\n",
      "dense (Dense)                (None, 256)               200960    \n",
      "_________________________________________________________________\n",
      "activation (Activation)      (None, 256)               0         \n",
      "_________________________________________________________________\n",
      "dense_1 (Dense)              (None, 256)               65792     \n",
      "_________________________________________________________________\n",
      "dense_2 (Dense)              (None, 100)               25700     \n",
      "_________________________________________________________________\n",
      "dense_3 (Dense)              (None, 10)                1010      \n",
      "_________________________________________________________________\n",
      "activation_1 (Activation)    (None, 10)                0         \n",
      "=================================================================\n",
      "Total params: 293,462\n",
      "Trainable params: 293,462\n",
      "Non-trainable params: 0\n",
      "_________________________________________________________________\n"
     ]
    }
   ],
   "source": [
    "# Sequential: ネットワークを1列に積み上げているシンプルな方法\n",
    "model = Sequential()\n",
    "\n",
    "# 最初のlayerはinput_shapeを指定して、入力するデータの次元を与える必要がある\n",
    "# Dense: 一般的な全結合層を表すレイヤー\n",
    "# 初期化: Heの初期化法は活性化関数がReLUであるときに適している\n",
    "model.add(Dense(units=256, input_shape=(784,),\n",
    "                kernel_initializer='he_uniform'))\n",
    "# Activation: 活性化関数として relu を選択\n",
    "model.add(Activation('relu'))\n",
    "\n",
    "# 同時に指定も可能\n",
    "model.add(Dense(256, activation='relu'))\n",
    "\n",
    "# ドロップアウト: 近似的にアンサンブル法を実現するもの\n",
    "# ドロップアウトは入力の一部をランダムに0にして出力するlayerの一種。\n",
    "# 訓練データセットから部分訓練データセットを大量に作成し、\n",
    "# 各モデルの予測結果を平均する手法をアンサンブルというが、\n",
    "# とてつもない計算量を要する\n",
    "# model.add(Dropout(0.2))\n",
    "\n",
    "model.add(Dense(100, activation='relu'))\n",
    "# model.add(Dropout(0.2))\n",
    "\n",
    "# 正規化: L2正則化では、全パラメータの2乗和を正則化項として損失関数に加えます。\n",
    "# L2正則化では、パラメータを完全に0にすることは少ないものの、\n",
    "# パラメータを滑らかにすることで予測精度のより良いモデルを構築する\n",
    "# model.add(Dense(256, activation='relu', kernel_regularizer=regularizers.l2(0.01)))\n",
    "\n",
    "# 正規化: L1正則化では、全パラメータの絶対値の和を正則化項として損失関数に加える。\n",
    "# L1正則化ではL2正則化よりもパラメータが0になりやすいという特徴（スパース性）がある\n",
    "# model.add(Dense(256, activation='relu', kernel_regularizer=regularizers.l1(0.01)))\n",
    "\n",
    "# 正規化: L1正則化とL2正則化の組み合わせのElasticNet\n",
    "# model.add(Dense(100, activation='relu',\n",
    "#                 kernel_regularizer=regularizers.l1_l2(l1=0.01, l2=0.01)))\n",
    "\n",
    "model.add(Dense(units=10))\n",
    "# softmax: 他クラス分類の活性化関数として用いられる\n",
    "model.add(Activation('softmax'))\n",
    "\n",
    "model.compile(\n",
    "    loss='categorical_crossentropy',\n",
    "    # optimizer='sgd',\n",
    "    # 最適化手法として Adam を使用している。\n",
    "    optimizer=Adam(),\n",
    "    metrics=['acc']\n",
    ")\n",
    "\n",
    "model.summary()"
   ]
  },
  {
   "cell_type": "markdown",
   "metadata": {},
   "source": [
    "## モデル可視化"
   ]
  },
  {
   "cell_type": "code",
   "execution_count": 4,
   "metadata": {
    "collapsed": false,
    "jupyter": {
     "outputs_hidden": false
    }
   },
   "outputs": [
    {
     "data": {
      "image/svg+xml": [
       "<svg height=\"490pt\" viewBox=\"0.00 0.00 156.00 490.00\" width=\"156pt\" xmlns=\"http://www.w3.org/2000/svg\" xmlns:xlink=\"http://www.w3.org/1999/xlink\">\n",
       "<g class=\"graph\" id=\"graph0\" transform=\"scale(1 1) rotate(0) translate(4 486)\">\n",
       "<title>G</title>\n",
       "<polygon fill=\"white\" points=\"-4,5 -4,-486 153,-486 153,5 -4,5\" stroke=\"white\"/>\n",
       "<!-- 140422273083880 -->\n",
       "<g class=\"node\" id=\"node1\"><title>140422273083880</title>\n",
       "<polygon fill=\"none\" points=\"0,-445 0,-481 148,-481 148,-445 0,-445\" stroke=\"black\"/>\n",
       "<text font-family=\"Times,serif\" font-size=\"14.00\" text-anchor=\"middle\" x=\"74\" y=\"-459.3\">dense_input: InputLayer</text>\n",
       "</g>\n",
       "<!-- 140422181022632 -->\n",
       "<g class=\"node\" id=\"node2\"><title>140422181022632</title>\n",
       "<polygon fill=\"none\" points=\"29.5,-371 29.5,-407 118.5,-407 118.5,-371 29.5,-371\" stroke=\"black\"/>\n",
       "<text font-family=\"Times,serif\" font-size=\"14.00\" text-anchor=\"middle\" x=\"74\" y=\"-385.3\">dense: Dense</text>\n",
       "</g>\n",
       "<!-- 140422273083880&#45;&gt;140422181022632 -->\n",
       "<g class=\"edge\" id=\"edge1\"><title>140422273083880-&gt;140422181022632</title>\n",
       "<path d=\"M74,-444.937C74,-436.807 74,-426.876 74,-417.705\" fill=\"none\" stroke=\"black\"/>\n",
       "<polygon fill=\"black\" points=\"77.5001,-417.441 74,-407.441 70.5001,-417.441 77.5001,-417.441\" stroke=\"black\"/>\n",
       "</g>\n",
       "<!-- 140422273084944 -->\n",
       "<g class=\"node\" id=\"node3\"><title>140422273084944</title>\n",
       "<polygon fill=\"none\" points=\"8.5,-297 8.5,-333 139.5,-333 139.5,-297 8.5,-297\" stroke=\"black\"/>\n",
       "<text font-family=\"Times,serif\" font-size=\"14.00\" text-anchor=\"middle\" x=\"74\" y=\"-311.3\">activation: Activation</text>\n",
       "</g>\n",
       "<!-- 140422181022632&#45;&gt;140422273084944 -->\n",
       "<g class=\"edge\" id=\"edge2\"><title>140422181022632-&gt;140422273084944</title>\n",
       "<path d=\"M74,-370.937C74,-362.807 74,-352.876 74,-343.705\" fill=\"none\" stroke=\"black\"/>\n",
       "<polygon fill=\"black\" points=\"77.5001,-343.441 74,-333.441 70.5001,-343.441 77.5001,-343.441\" stroke=\"black\"/>\n",
       "</g>\n",
       "<!-- 140422273081584 -->\n",
       "<g class=\"node\" id=\"node4\"><title>140422273081584</title>\n",
       "<polygon fill=\"none\" points=\"23,-223 23,-259 125,-259 125,-223 23,-223\" stroke=\"black\"/>\n",
       "<text font-family=\"Times,serif\" font-size=\"14.00\" text-anchor=\"middle\" x=\"74\" y=\"-237.3\">dense_1: Dense</text>\n",
       "</g>\n",
       "<!-- 140422273084944&#45;&gt;140422273081584 -->\n",
       "<g class=\"edge\" id=\"edge3\"><title>140422273084944-&gt;140422273081584</title>\n",
       "<path d=\"M74,-296.937C74,-288.807 74,-278.876 74,-269.705\" fill=\"none\" stroke=\"black\"/>\n",
       "<polygon fill=\"black\" points=\"77.5001,-269.441 74,-259.441 70.5001,-269.441 77.5001,-269.441\" stroke=\"black\"/>\n",
       "</g>\n",
       "<!-- 140422273039944 -->\n",
       "<g class=\"node\" id=\"node5\"><title>140422273039944</title>\n",
       "<polygon fill=\"none\" points=\"23,-149 23,-185 125,-185 125,-149 23,-149\" stroke=\"black\"/>\n",
       "<text font-family=\"Times,serif\" font-size=\"14.00\" text-anchor=\"middle\" x=\"74\" y=\"-163.3\">dense_2: Dense</text>\n",
       "</g>\n",
       "<!-- 140422273081584&#45;&gt;140422273039944 -->\n",
       "<g class=\"edge\" id=\"edge4\"><title>140422273081584-&gt;140422273039944</title>\n",
       "<path d=\"M74,-222.937C74,-214.807 74,-204.876 74,-195.705\" fill=\"none\" stroke=\"black\"/>\n",
       "<polygon fill=\"black\" points=\"77.5001,-195.441 74,-185.441 70.5001,-195.441 77.5001,-195.441\" stroke=\"black\"/>\n",
       "</g>\n",
       "<!-- 140422273032088 -->\n",
       "<g class=\"node\" id=\"node6\"><title>140422273032088</title>\n",
       "<polygon fill=\"none\" points=\"23,-75 23,-111 125,-111 125,-75 23,-75\" stroke=\"black\"/>\n",
       "<text font-family=\"Times,serif\" font-size=\"14.00\" text-anchor=\"middle\" x=\"74\" y=\"-89.3\">dense_3: Dense</text>\n",
       "</g>\n",
       "<!-- 140422273039944&#45;&gt;140422273032088 -->\n",
       "<g class=\"edge\" id=\"edge5\"><title>140422273039944-&gt;140422273032088</title>\n",
       "<path d=\"M74,-148.937C74,-140.807 74,-130.876 74,-121.705\" fill=\"none\" stroke=\"black\"/>\n",
       "<polygon fill=\"black\" points=\"77.5001,-121.441 74,-111.441 70.5001,-121.441 77.5001,-121.441\" stroke=\"black\"/>\n",
       "</g>\n",
       "<!-- 140422278820192 -->\n",
       "<g class=\"node\" id=\"node7\"><title>140422278820192</title>\n",
       "<polygon fill=\"none\" points=\"2,-1 2,-37 146,-37 146,-1 2,-1\" stroke=\"black\"/>\n",
       "<text font-family=\"Times,serif\" font-size=\"14.00\" text-anchor=\"middle\" x=\"74\" y=\"-15.3\">activation_1: Activation</text>\n",
       "</g>\n",
       "<!-- 140422273032088&#45;&gt;140422278820192 -->\n",
       "<g class=\"edge\" id=\"edge6\"><title>140422273032088-&gt;140422278820192</title>\n",
       "<path d=\"M74,-74.937C74,-66.8072 74,-56.8761 74,-47.7047\" fill=\"none\" stroke=\"black\"/>\n",
       "<polygon fill=\"black\" points=\"77.5001,-47.4406 74,-37.4407 70.5001,-47.4407 77.5001,-47.4406\" stroke=\"black\"/>\n",
       "</g>\n",
       "</g>\n",
       "</svg>"
      ],
      "text/plain": [
       "<IPython.core.display.SVG object>"
      ]
     },
     "execution_count": 4,
     "metadata": {},
     "output_type": "execute_result"
    }
   ],
   "source": [
    "SVG(model_to_dot(model, dpi=72).create(prog='dot', format='svg'))"
   ]
  },
  {
   "cell_type": "markdown",
   "metadata": {},
   "source": [
    "## モデル学習"
   ]
  },
  {
   "cell_type": "code",
   "execution_count": 5,
   "metadata": {
    "collapsed": false,
    "jupyter": {
     "outputs_hidden": false
    }
   },
   "outputs": [
    {
     "name": "stdout",
     "output_type": "stream",
     "text": [
      "Train on 60000 samples, validate on 10000 samples\n",
      "Epoch 1/10\n",
      "60000/60000 [==============================] - 3s 51us/sample - loss: 2.4519 - acc: 0.8405 - val_loss: 0.5164 - val_acc: 0.9041\n",
      "Epoch 2/10\n",
      "60000/60000 [==============================] - 2s 34us/sample - loss: 0.3470 - acc: 0.9261 - val_loss: 0.3665 - val_acc: 0.9261\n",
      "Epoch 3/10\n",
      "60000/60000 [==============================] - 2s 35us/sample - loss: 0.1998 - acc: 0.9502 - val_loss: 0.2690 - val_acc: 0.9404\n",
      "Epoch 4/10\n",
      "60000/60000 [==============================] - 2s 35us/sample - loss: 0.1233 - acc: 0.9666 - val_loss: 0.2524 - val_acc: 0.9465\n",
      "Epoch 5/10\n",
      "60000/60000 [==============================] - 2s 35us/sample - loss: 0.0835 - acc: 0.9755 - val_loss: 0.2440 - val_acc: 0.9503\n",
      "Epoch 6/10\n",
      "60000/60000 [==============================] - 2s 35us/sample - loss: 0.0600 - acc: 0.9815 - val_loss: 0.2221 - val_acc: 0.9510\n",
      "Epoch 7/10\n",
      "60000/60000 [==============================] - 2s 34us/sample - loss: 0.0435 - acc: 0.9856 - val_loss: 0.2370 - val_acc: 0.9513\n",
      "Epoch 00007: early stopping\n"
     ]
    }
   ],
   "source": [
    "history = model.fit(\n",
    "    x_train, y_train,\n",
    "    batch_size=400, epochs=10, verbose=1,\n",
    "    validation_data=(x_test, y_test),\n",
    "    # 早期終了: 検証データの誤差が大きくなってきた（或いは評価関数値が下がってきた）ところで学習をストップさせる\n",
    "    callbacks=[EarlyStopping(patience=0, verbose=1)]\n",
    ")"
   ]
  },
  {
   "cell_type": "markdown",
   "metadata": {},
   "source": [
    "## モデル評価"
   ]
  },
  {
   "cell_type": "code",
   "execution_count": 6,
   "metadata": {
    "collapsed": false,
    "jupyter": {
     "outputs_hidden": false
    }
   },
   "outputs": [
    {
     "name": "stdout",
     "output_type": "stream",
     "text": [
      "Test loss: 0.23695409606076193\n",
      "Test accuracy: 0.9513\n"
     ]
    },
    {
     "data": {
      "image/png": "[encoded data removed]",
      "text/plain": [
       "<Figure size 432x288 with 1 Axes>"
      ]
     },
     "metadata": {
      "needs_background": "light"
     },
     "output_type": "display_data"
    },
    {
     "data": {
      "image/png": "[encoded data removed]",
      "text/plain": [
       "<Figure size 432x288 with 1 Axes>"
      ]
     },
     "metadata": {
      "needs_background": "light"
     },
     "output_type": "display_data"
    }
   ],
   "source": [
    "score = model.evaluate(x_test, y_test, verbose=0)\n",
    "print('Test loss:', score[0])\n",
    "print('Test accuracy:', score[1])\n",
    "\n",
    "# Plot training & validation accuracy values\n",
    "plt.plot(history.history['acc'])\n",
    "plt.plot(history.history['val_acc'])\n",
    "plt.title('Model accuracy')\n",
    "plt.ylabel('Accuracy')\n",
    "plt.xlabel('Epoch')\n",
    "plt.legend(['Train', 'Test'], loc='upper left')\n",
    "plt.show()\n",
    "\n",
    "# Plot training & validation loss values\n",
    "plt.plot(history.history['loss'])\n",
    "plt.plot(history.history['val_loss'])\n",
    "plt.title('Model loss')\n",
    "plt.ylabel('Loss')\n",
    "plt.xlabel('Epoch')\n",
    "plt.legend(['Train', 'Test'], loc='upper left')\n",
    "plt.show()"
   ]
  }
 ],
 "metadata": {
  "kernelspec": {
   "display_name": "Python 3",
   "language": "python",
   "name": "python3"
  },
  "language_info": {
   "codemirror_mode": {
    "name": "ipython",
    "version": 3
   },
   "file_extension": ".py",
   "mimetype": "text/x-python",
   "name": "python",
   "nbconvert_exporter": "python",
   "pygments_lexer": "ipython3",
   "version": "3.6.8"
  }
 },
 "nbformat": 4,
 "nbformat_minor": 4
}
