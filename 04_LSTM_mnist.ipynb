{
 "cells": [
  {
   "cell_type": "markdown",
   "metadata": {},
   "source": [
    "# Deep Learning入門\n",
    "\n",
    "## LSTM のサンプル"
   ]
  },
  {
   "cell_type": "code",
   "execution_count": 4,
   "metadata": {
    "collapsed": false,
    "jupyter": {
     "outputs_hidden": false
    }
   },
   "outputs": [
    {
     "data": {
      "image/png": "[encoded data removed]",
      "text/plain": [
       "<Figure size 648x1080 with 9 Axes>"
      ]
     },
     "metadata": {},
     "output_type": "display_data"
    }
   ],
   "source": [
    "import matplotlib.pyplot as plt\n",
    "import numpy as np\n",
    "from IPython.display import SVG\n",
    "from tensorflow.keras import regularizers\n",
    "from tensorflow.keras.callbacks import EarlyStopping\n",
    "from tensorflow.keras.datasets import mnist\n",
    "from tensorflow.keras.layers import LSTM, Activation, Bidirectional, Dense\n",
    "from tensorflow.keras.models import Sequential\n",
    "from tensorflow.keras.optimizers import Adam\n",
    "from tensorflow.keras.utils import model_to_dot, to_categorical\n",
    "\n",
    "%matplotlib inline\n",
    "\n",
    "(x_train, y_train), (x_test, y_test) = mnist.load_data()\n",
    "\n",
    "fig = plt.figure(figsize=(9, 15))\n",
    "fig.subplots_adjust(left=0, right=1, bottom=0,\n",
    "                    top=0.5, hspace=0.05, wspace=0.05)\n",
    "\n",
    "for i in range(9):\n",
    "    ax = fig.add_subplot(1, 9, i + 1, xticks=[], yticks=[])\n",
    "    ax.set_title(str(y_train[i]))\n",
    "    ax.imshow(x_train[i], cmap='gray')"
   ]
  },
  {
   "cell_type": "markdown",
   "metadata": {},
   "source": [
    "## 前処理"
   ]
  },
  {
   "cell_type": "code",
   "execution_count": 5,
   "metadata": {
    "collapsed": false,
    "jupyter": {
     "outputs_hidden": false
    }
   },
   "outputs": [],
   "source": [
    "x_train = x_train.reshape(x_train.shape[0], 28, 28)\n",
    "x_test = x_test.reshape(x_test.shape[0], 28, 28)\n",
    "\n",
    "# 名義尺度の値をone-hot表現へ変換\n",
    "y_train = to_categorical(y_train)\n",
    "y_test = to_categorical(y_test)"
   ]
  },
  {
   "cell_type": "markdown",
   "metadata": {},
   "source": [
    "## モデル作成"
   ]
  },
  {
   "cell_type": "code",
   "execution_count": 6,
   "metadata": {
    "collapsed": false,
    "jupyter": {
     "outputs_hidden": false
    }
   },
   "outputs": [
    {
     "name": "stdout",
     "output_type": "stream",
     "text": [
      "Model: \"sequential_1\"\n",
      "_________________________________________________________________\n",
      "Layer (type)                 Output Shape              Param #   \n",
      "=================================================================\n",
      "bidirectional (Bidirectional (None, 256)               160768    \n",
      "_________________________________________________________________\n",
      "dense (Dense)                (None, 10)                2570      \n",
      "_________________________________________________________________\n",
      "activation (Activation)      (None, 10)                0         \n",
      "=================================================================\n",
      "Total params: 163,338\n",
      "Trainable params: 163,338\n",
      "Non-trainable params: 0\n",
      "_________________________________________________________________\n"
     ]
    }
   ],
   "source": [
    "# Sequential: ネットワークを1列に積み上げているシンプルな方法\n",
    "model = Sequential()\n",
    "\n",
    "model.add(Bidirectional(LSTM(128), input_shape=(28, 28)))\n",
    "model.add(Dense(10, kernel_initializer='glorot_uniform'))\n",
    "model.add(Activation('softmax'))\n",
    "\n",
    "model.compile(\n",
    "    loss='categorical_crossentropy',\n",
    "    # optimizer='sgd',\n",
    "    # 最適化手法として Adam を使用している。\n",
    "    optimizer=Adam(),\n",
    "    metrics=['acc']\n",
    ")\n",
    "\n",
    "model.summary()"
   ]
  },
  {
   "cell_type": "markdown",
   "metadata": {},
   "source": [
    "## モデル可視化"
   ]
  },
  {
   "cell_type": "code",
   "execution_count": 7,
   "metadata": {
    "collapsed": false,
    "jupyter": {
     "outputs_hidden": false
    }
   },
   "outputs": [
    {
     "data": {
      "image/svg+xml": [
       "<svg height=\"268pt\" viewBox=\"0.00 0.00 250.00 268.00\" width=\"250pt\" xmlns=\"http://www.w3.org/2000/svg\" xmlns:xlink=\"http://www.w3.org/1999/xlink\">\n",
       "<g class=\"graph\" id=\"graph0\" transform=\"scale(1 1) rotate(0) translate(4 264)\">\n",
       "<title>G</title>\n",
       "<polygon fill=\"white\" points=\"-4,5 -4,-264 247,-264 247,5 -4,5\" stroke=\"white\"/>\n",
       "<!-- 139648232091432 -->\n",
       "<g class=\"node\" id=\"node1\"><title>139648232091432</title>\n",
       "<polygon fill=\"none\" points=\"28.5,-223 28.5,-259 213.5,-259 213.5,-223 28.5,-223\" stroke=\"black\"/>\n",
       "<text font-family=\"Times,serif\" font-size=\"14.00\" text-anchor=\"middle\" x=\"121\" y=\"-237.3\">bidirectional_input: InputLayer</text>\n",
       "</g>\n",
       "<!-- 139648232381352 -->\n",
       "<g class=\"node\" id=\"node2\"><title>139648232381352</title>\n",
       "<polygon fill=\"none\" points=\"0,-149 0,-185 242,-185 242,-149 0,-149\" stroke=\"black\"/>\n",
       "<text font-family=\"Times,serif\" font-size=\"14.00\" text-anchor=\"middle\" x=\"121\" y=\"-163.3\">bidirectional(lstm): Bidirectional(LSTM)</text>\n",
       "</g>\n",
       "<!-- 139648232091432&#45;&gt;139648232381352 -->\n",
       "<g class=\"edge\" id=\"edge1\"><title>139648232091432-&gt;139648232381352</title>\n",
       "<path d=\"M121,-222.937C121,-214.807 121,-204.876 121,-195.705\" fill=\"none\" stroke=\"black\"/>\n",
       "<polygon fill=\"black\" points=\"124.5,-195.441 121,-185.441 117.5,-195.441 124.5,-195.441\" stroke=\"black\"/>\n",
       "</g>\n",
       "<!-- 139648143729944 -->\n",
       "<g class=\"node\" id=\"node3\"><title>139648143729944</title>\n",
       "<polygon fill=\"none\" points=\"76.5,-75 76.5,-111 165.5,-111 165.5,-75 76.5,-75\" stroke=\"black\"/>\n",
       "<text font-family=\"Times,serif\" font-size=\"14.00\" text-anchor=\"middle\" x=\"121\" y=\"-89.3\">dense: Dense</text>\n",
       "</g>\n",
       "<!-- 139648232381352&#45;&gt;139648143729944 -->\n",
       "<g class=\"edge\" id=\"edge2\"><title>139648232381352-&gt;139648143729944</title>\n",
       "<path d=\"M121,-148.937C121,-140.807 121,-130.876 121,-121.705\" fill=\"none\" stroke=\"black\"/>\n",
       "<polygon fill=\"black\" points=\"124.5,-121.441 121,-111.441 117.5,-121.441 124.5,-121.441\" stroke=\"black\"/>\n",
       "</g>\n",
       "<!-- 139648232126280 -->\n",
       "<g class=\"node\" id=\"node4\"><title>139648232126280</title>\n",
       "<polygon fill=\"none\" points=\"55.5,-1 55.5,-37 186.5,-37 186.5,-1 55.5,-1\" stroke=\"black\"/>\n",
       "<text font-family=\"Times,serif\" font-size=\"14.00\" text-anchor=\"middle\" x=\"121\" y=\"-15.3\">activation: Activation</text>\n",
       "</g>\n",
       "<!-- 139648143729944&#45;&gt;139648232126280 -->\n",
       "<g class=\"edge\" id=\"edge3\"><title>139648143729944-&gt;139648232126280</title>\n",
       "<path d=\"M121,-74.937C121,-66.8072 121,-56.8761 121,-47.7047\" fill=\"none\" stroke=\"black\"/>\n",
       "<polygon fill=\"black\" points=\"124.5,-47.4406 121,-37.4407 117.5,-47.4407 124.5,-47.4406\" stroke=\"black\"/>\n",
       "</g>\n",
       "</g>\n",
       "</svg>"
      ],
      "text/plain": [
       "<IPython.core.display.SVG object>"
      ]
     },
     "execution_count": 7,
     "metadata": {},
     "output_type": "execute_result"
    }
   ],
   "source": [
    "SVG(model_to_dot(model, dpi=72).create(prog='dot', format='svg'))"
   ]
  },
  {
   "cell_type": "markdown",
   "metadata": {},
   "source": [
    "## モデル学習"
   ]
  },
  {
   "cell_type": "code",
   "execution_count": 8,
   "metadata": {
    "collapsed": false,
    "jupyter": {
     "outputs_hidden": false
    }
   },
   "outputs": [
    {
     "name": "stdout",
     "output_type": "stream",
     "text": [
      "Train on 60000 samples, validate on 10000 samples\n",
      "Epoch 1/20\n",
      "60000/60000 [==============================] - 103s 2ms/sample - loss: 0.4485 - acc: 0.8640 - val_loss: 0.2054 - val_acc: 0.9335\n",
      "Epoch 2/20\n",
      "60000/60000 [==============================] - 55s 913us/sample - loss: 0.1700 - acc: 0.9467 - val_loss: 0.1624 - val_acc: 0.9498\n",
      "Epoch 3/20\n",
      "60000/60000 [==============================] - 55s 911us/sample - loss: 0.1318 - acc: 0.9584 - val_loss: 0.1435 - val_acc: 0.9534\n",
      "Epoch 4/20\n",
      "60000/60000 [==============================] - 54s 907us/sample - loss: 0.1098 - acc: 0.9641 - val_loss: 0.1418 - val_acc: 0.9550\n",
      "Epoch 5/20\n",
      "60000/60000 [==============================] - 56s 928us/sample - loss: 0.0943 - acc: 0.9691 - val_loss: 0.1285 - val_acc: 0.9587\n",
      "Epoch 6/20\n",
      "60000/60000 [==============================] - 54s 908us/sample - loss: 0.0816 - acc: 0.9728 - val_loss: 0.1124 - val_acc: 0.9639\n",
      "Epoch 7/20\n",
      "60000/60000 [==============================] - 53s 889us/sample - loss: 0.0708 - acc: 0.9768 - val_loss: 0.1173 - val_acc: 0.9627\n",
      "Epoch 00007: early stopping\n"
     ]
    }
   ],
   "source": [
    "history = model.fit(\n",
    "    x_train, y_train,\n",
    "    batch_size=200, epochs=20, verbose=1,\n",
    "    validation_data=(x_test, y_test),\n",
    "    # 早期終了: 検証データの誤差が大きくなってきた（或いは評価関数値が下がってきた）ところで学習をストップさせる\n",
    "    callbacks=[EarlyStopping(patience=0, verbose=1)]\n",
    ")"
   ]
  },
  {
   "cell_type": "markdown",
   "metadata": {},
   "source": [
    "## モデル評価"
   ]
  },
  {
   "cell_type": "code",
   "execution_count": 9,
   "metadata": {
    "collapsed": false,
    "jupyter": {
     "outputs_hidden": false
    }
   },
   "outputs": [
    {
     "name": "stdout",
     "output_type": "stream",
     "text": [
      "Test loss: 0.11729486039467156\n",
      "Test accuracy: 0.9627\n"
     ]
    },
    {
     "data": {
      "image/png": "[encoded data removed]",
      "text/plain": [
       "<Figure size 432x288 with 1 Axes>"
      ]
     },
     "metadata": {
      "needs_background": "light"
     },
     "output_type": "display_data"
    },
    {
     "data": {
      "image/png": "[encoded data removed]",
      "text/plain": [
       "<Figure size 432x288 with 1 Axes>"
      ]
     },
     "metadata": {
      "needs_background": "light"
     },
     "output_type": "display_data"
    }
   ],
   "source": [
    "score = model.evaluate(x_test, y_test, verbose=0)\n",
    "print('Test loss:', score[0])\n",
    "print('Test accuracy:', score[1])\n",
    "\n",
    "# Plot training & validation accuracy values\n",
    "plt.plot(history.history['acc'])\n",
    "plt.plot(history.history['val_acc'])\n",
    "plt.title('Model accuracy')\n",
    "plt.ylabel('Accuracy')\n",
    "plt.xlabel('Epoch')\n",
    "plt.legend(['Train', 'Test'], loc='upper left')\n",
    "plt.show()\n",
    "\n",
    "# Plot training & validation loss values\n",
    "plt.plot(history.history['loss'])\n",
    "plt.plot(history.history['val_loss'])\n",
    "plt.title('Model loss')\n",
    "plt.ylabel('Loss')\n",
    "plt.xlabel('Epoch')\n",
    "plt.legend(['Train', 'Test'], loc='upper left')\n",
    "plt.show()"
   ]
  }
 ],
 "metadata": {
  "kernelspec": {
   "display_name": "",
   "name": ""
  },
  "language_info": {
   "name": ""
  }
 },
 "nbformat": 4,
 "nbformat_minor": 4
}
